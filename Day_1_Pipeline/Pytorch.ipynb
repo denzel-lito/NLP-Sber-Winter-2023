{
 "cells": [
  {
   "cell_type": "markdown",
   "metadata": {},
   "source": [
    "# Pytorch\n",
    "Для более сложных моделей, например seq2seq, простого keras будет недостаточно. В основном, для этого используется PyTorch или Tensorflow. Здесь мы попытаемся разобрать основы работы с PyTorch. Для этого пройдемся по туториалам с официального сайта. Начнем с введения: https://pytorch.org/tutorials/beginner/blitz/tensor_tutorial.html#sphx-glr-beginner-blitz-tensor-tutorial-py    "
   ]
  },
  {
   "cell_type": "markdown",
   "metadata": {},
   "source": [
    "## Установка\n",
    "Если вам не нужна поддержка GPU или CUDA уже поставлена, то достаточно поставить с помощью команды, появляющейся после выбора соответвующией конфигурации: https://pytorch.org/get-started/locally/\n",
    "\n",
    "Если же у вас Windows, то работает этот туториал:https://medium.com/@jjc7ru/one-stop-shop-for-all-your-windows-10-anaconda-pytorch-gpu-cuda10-setup-ad732fad67f1\n",
    "\n",
    "С некоторыми модификациями:\n",
    "- сейчас актуальная версия CUDA 10.1 - выбираем везде её\n",
    "- При установке CUDA захочет Visual Studio, теоретически можно поставить и без неё, но лучше чтоб наверняка. С Visul Studio 2019 Community с установкой средств разработки для C++ все поставилось.\n",
    "\n",
    "На Ubuntu CUDA вроде ставится из терминала, основная проблема - поставить драйвера.\n",
    "\n",
    "Перейдем же наконец с самому PyTorch"
   ]
  },
  {
   "cell_type": "code",
   "execution_count": 1,
   "metadata": {
    "ExecuteTime": {
     "end_time": "2023-03-07T08:51:59.312097Z",
     "start_time": "2023-03-07T08:51:58.146647Z"
    }
   },
   "outputs": [
    {
     "name": "stderr",
     "output_type": "stream",
     "text": [
      "/Users/16971921/.conda/envs/py38_venv/lib/python3.8/site-packages/tqdm/auto.py:22: TqdmWarning: IProgress not found. Please update jupyter and ipywidgets. See https://ipywidgets.readthedocs.io/en/stable/user_install.html\n",
      "  from .autonotebook import tqdm as notebook_tqdm\n"
     ]
    }
   ],
   "source": [
    "import torch"
   ]
  },
  {
   "cell_type": "markdown",
   "metadata": {},
   "source": [
    "## Тензоры\n",
    "Для начала расссмотрим операции над тензорами"
   ]
  },
  {
   "cell_type": "code",
   "execution_count": 2,
   "metadata": {
    "ExecuteTime": {
     "end_time": "2023-03-07T08:51:59.319058Z",
     "start_time": "2023-03-07T08:51:59.314390Z"
    }
   },
   "outputs": [
    {
     "name": "stdout",
     "output_type": "stream",
     "text": [
      "tensor([[0.0000e+00, 0.0000e+00, 0.0000e+00],\n",
      "        [0.0000e+00, 0.0000e+00, 0.0000e+00],\n",
      "        [1.3484e-33, 1.4013e-45, 1.3484e-33],\n",
      "        [1.4013e-45, 1.3616e-33, 1.4013e-45],\n",
      "        [1.3615e-33, 1.4013e-45, 1.3618e-33]])\n"
     ]
    }
   ],
   "source": [
    "# Пустая матрица 5 на 3\n",
    "x = torch.empty(5,3)\n",
    "print(x)"
   ]
  },
  {
   "cell_type": "code",
   "execution_count": 3,
   "metadata": {
    "ExecuteTime": {
     "end_time": "2023-03-07T08:51:59.325242Z",
     "start_time": "2023-03-07T08:51:59.321155Z"
    }
   },
   "outputs": [
    {
     "name": "stdout",
     "output_type": "stream",
     "text": [
      "tensor([[0.9946, 0.6112, 0.8494],\n",
      "        [0.6190, 0.7870, 0.8777],\n",
      "        [0.5071, 0.8427, 0.5563],\n",
      "        [0.7449, 0.4453, 0.8788],\n",
      "        [0.7519, 0.9595, 0.7754]])\n"
     ]
    }
   ],
   "source": [
    "# Аналогично с рандомной инициализацией\n",
    "x = torch.rand(5, 3)\n",
    "print(x)"
   ]
  },
  {
   "cell_type": "code",
   "execution_count": 4,
   "metadata": {
    "ExecuteTime": {
     "end_time": "2023-03-07T08:51:59.331297Z",
     "start_time": "2023-03-07T08:51:59.327288Z"
    }
   },
   "outputs": [
    {
     "name": "stdout",
     "output_type": "stream",
     "text": [
      "tensor([[0, 0, 0],\n",
      "        [0, 0, 0],\n",
      "        [0, 0, 0],\n",
      "        [0, 0, 0],\n",
      "        [0, 0, 0]])\n"
     ]
    }
   ],
   "source": [
    "# Заполненная нулями и укзаным типом\n",
    "x = torch.zeros(5, 3, dtype=torch.long)\n",
    "print(x)"
   ]
  },
  {
   "cell_type": "code",
   "execution_count": 5,
   "metadata": {
    "ExecuteTime": {
     "end_time": "2023-03-07T08:51:59.337257Z",
     "start_time": "2023-03-07T08:51:59.333290Z"
    }
   },
   "outputs": [
    {
     "name": "stdout",
     "output_type": "stream",
     "text": [
      "tensor([5.5000, 3.0000])\n"
     ]
    }
   ],
   "source": [
    "# Также можно конструировать тензоры из питонячих списков\n",
    "x = torch.tensor([5.5, 3])\n",
    "print(x) # тут увидим, что тип приаедтся"
   ]
  },
  {
   "cell_type": "code",
   "execution_count": 6,
   "metadata": {
    "ExecuteTime": {
     "end_time": "2023-03-07T08:51:59.346667Z",
     "start_time": "2023-03-07T08:51:59.339628Z"
    }
   },
   "outputs": [
    {
     "name": "stdout",
     "output_type": "stream",
     "text": [
      "tensor([[1., 1., 1.],\n",
      "        [1., 1., 1.],\n",
      "        [1., 1., 1.],\n",
      "        [1., 1., 1.],\n",
      "        [1., 1., 1.]], dtype=torch.float64)\n",
      "tensor([[-0.0465,  0.4181, -0.3283],\n",
      "        [ 1.9096,  0.0219, -1.1346],\n",
      "        [ 1.0079, -0.1110,  0.5466],\n",
      "        [-0.1819, -0.2293, -1.3828],\n",
      "        [-0.2280, -0.6335,  0.8569]])\n"
     ]
    }
   ],
   "source": [
    "# Создание тензеров, похожих на существуюшие \n",
    "x = x.new_ones(5, 3, dtype=torch.double)\n",
    "print(x)\n",
    "\n",
    "x = torch.randn_like(x, dtype=torch.float)\n",
    "print(x)"
   ]
  },
  {
   "cell_type": "markdown",
   "metadata": {},
   "source": [
    "Как мы видим инициализировать тензоры можно множеством способов и делается это вполне интуитивно."
   ]
  },
  {
   "cell_type": "markdown",
   "metadata": {},
   "source": [
    "## Операции\n",
    "С тензорами можно проводить различные операции, причем также множеством способов. "
   ]
  },
  {
   "cell_type": "code",
   "execution_count": 7,
   "metadata": {
    "ExecuteTime": {
     "end_time": "2023-03-07T08:51:59.357301Z",
     "start_time": "2023-03-07T08:51:59.349423Z"
    }
   },
   "outputs": [
    {
     "name": "stdout",
     "output_type": "stream",
     "text": [
      "torch.Size([5, 3])\n",
      "tensor([[0.8955, 0.6902, 0.3047],\n",
      "        [0.0591, 0.8776, 0.6151],\n",
      "        [0.6883, 0.0229, 0.8203],\n",
      "        [0.0905, 0.0913, 0.1572],\n",
      "        [0.9995, 0.5613, 0.8153]])\n",
      "tensor(0.) tensor(0.) tensor(0.)\n",
      "tensor([[ 0.8490,  1.1083, -0.0235],\n",
      "        [ 1.9687,  0.8995, -0.5195],\n",
      "        [ 1.6962, -0.0881,  1.3669],\n",
      "        [-0.0914, -0.1381, -1.2256],\n",
      "        [ 0.7715, -0.0722,  1.6722]])\n",
      "tensor([ 1.1083,  0.8995, -0.0881, -0.1381, -0.0722])\n"
     ]
    }
   ],
   "source": [
    "# Получения размерностей\n",
    "print(x.size()) # можно взаимодействовать как с кортежем\n",
    "\n",
    "# сложение\n",
    "y = torch.rand(5,3)\n",
    "print(y)\n",
    "z1 = x + y\n",
    "z2 = torch.add(x,y)\n",
    "z3 = x.add(y)\n",
    "# Все эти записи идентичты\n",
    "print (torch.norm(z1- z2), torch.norm(z1 - z3), torch.norm(z2 -z3))\n",
    "\n",
    "# Также есть модификация in-place\n",
    "y.add_(x)\n",
    "print(y)\n",
    "\n",
    "# Ну и срезы тоже работают\n",
    "print(y[:,1])"
   ]
  },
  {
   "cell_type": "markdown",
   "metadata": {},
   "source": [
    "Одним из самых частых операций при работе с сетями являлется изменение размерностей тензоров. Для этого существует базовая операция `view`, а также `transpose` - для транспонирования (view для этого не подойдет), `squeeze` - для удаления фиктивных размерностей и `unsqueeze` для их добавления."
   ]
  },
  {
   "cell_type": "code",
   "execution_count": 8,
   "metadata": {
    "ExecuteTime": {
     "end_time": "2023-03-07T08:51:59.371290Z",
     "start_time": "2023-03-07T08:51:59.363146Z"
    }
   },
   "outputs": [
    {
     "name": "stdout",
     "output_type": "stream",
     "text": [
      "torch.Size([4, 4]) torch.Size([16]) torch.Size([2, 8])\n"
     ]
    }
   ],
   "source": [
    "x = torch.randn(4, 4)\n",
    "y = x.view(16)\n",
    "z = x.view(-1, 8)  # в -1 перейдут оставшиейся размерности\n",
    "print(x.size(), y.size(), z.size())"
   ]
  },
  {
   "cell_type": "code",
   "execution_count": 9,
   "metadata": {
    "ExecuteTime": {
     "end_time": "2023-03-07T08:51:59.384311Z",
     "start_time": "2023-03-07T08:51:59.373157Z"
    }
   },
   "outputs": [
    {
     "name": "stdout",
     "output_type": "stream",
     "text": [
      "tensor([[0.2606, 0.2101, 0.9212],\n",
      "        [0.5064, 0.5933, 0.3188]])\n",
      "tensor([[0.2606, 0.5064],\n",
      "        [0.2101, 0.5933],\n",
      "        [0.9212, 0.3188]])\n",
      "tensor([[1, 2, 3, 4]])\n",
      "tensor([[1],\n",
      "        [2],\n",
      "        [3],\n",
      "        [4]])\n",
      "tensor([1, 2, 3, 4])\n"
     ]
    }
   ],
   "source": [
    "x = torch.rand(2,3)\n",
    "print(x)\n",
    "print(x.transpose(0,1))\n",
    "\n",
    "x = torch.tensor([1, 2, 3, 4])\n",
    "print(torch.unsqueeze(x, 0))\n",
    "y = torch.unsqueeze(x, 1)\n",
    "print(y)\n",
    "print(y.squeeze())"
   ]
  },
  {
   "cell_type": "markdown",
   "metadata": {},
   "source": [
    "## Работа с NumPy\n",
    "В PyTorch предусмотрены методы для создания тензоров из таковых в numpy и наоборот, из-за чего не нужно сильно запариваться с подготовкой данных, если та была сделана на numpy и использовалась, например, в keras"
   ]
  },
  {
   "cell_type": "code",
   "execution_count": 10,
   "metadata": {
    "ExecuteTime": {
     "end_time": "2023-03-07T08:51:59.396287Z",
     "start_time": "2023-03-07T08:51:59.386823Z"
    }
   },
   "outputs": [
    {
     "name": "stdout",
     "output_type": "stream",
     "text": [
      "tensor([1., 1., 1., 1., 1.])\n",
      "[1. 1. 1. 1. 1.]\n",
      "tensor([2., 2., 2., 2., 2.])\n",
      "[2. 2. 2. 2. 2.]\n"
     ]
    }
   ],
   "source": [
    "a = torch.ones(5)\n",
    "print(a)\n",
    "b = a.numpy()\n",
    "print(b)\n",
    "\n",
    "# также можно менять исходный тензор и тензор в numpy тоже изменится\n",
    "a.add_(1)\n",
    "print(a)\n",
    "print(b)"
   ]
  },
  {
   "cell_type": "code",
   "execution_count": 11,
   "metadata": {
    "ExecuteTime": {
     "end_time": "2023-03-07T08:51:59.406991Z",
     "start_time": "2023-03-07T08:51:59.398661Z"
    }
   },
   "outputs": [
    {
     "name": "stdout",
     "output_type": "stream",
     "text": [
      "[2. 2. 2. 2. 2.]\n",
      "tensor([2., 2., 2., 2., 2.], dtype=torch.float64)\n"
     ]
    }
   ],
   "source": [
    "# теперь в обратную сторону\n",
    "import numpy as np\n",
    "a = np.ones(5)\n",
    "b = torch.from_numpy(a)\n",
    "np.add(a, 1, out=a)\n",
    "print(a)\n",
    "print(b)"
   ]
  },
  {
   "cell_type": "markdown",
   "metadata": {},
   "source": [
    "## CUDA Тензоры\n",
    "Тензоры могут быть перемещены с одного устройства на другое с помощью метода `to`"
   ]
  },
  {
   "cell_type": "code",
   "execution_count": 12,
   "metadata": {
    "ExecuteTime": {
     "end_time": "2023-03-07T08:51:59.414243Z",
     "start_time": "2023-03-07T08:51:59.409205Z"
    }
   },
   "outputs": [],
   "source": [
    "if torch.cuda.is_available(): # Проверяем что CUDA вообще есть\n",
    "    device = torch.device(\"cuda\")          # объявляем объект устройства\n",
    "    y = torch.ones_like(x, device=device)  # создаем тензор прям на GPU\n",
    "    x = x.to(device)                       # или переносим с помощью метода 'to'\n",
    "    z = x + y\n",
    "    print(z)\n",
    "    print(z.to(\"cpu\", torch.double))       # 'to' можнт также менять тип"
   ]
  },
  {
   "cell_type": "markdown",
   "metadata": {},
   "source": [
    "# own experiments"
   ]
  },
  {
   "cell_type": "code",
   "execution_count": 140,
   "metadata": {
    "ExecuteTime": {
     "end_time": "2023-03-07T10:54:48.971199Z",
     "start_time": "2023-03-07T10:54:48.962584Z"
    }
   },
   "outputs": [
    {
     "name": "stdout",
     "output_type": "stream",
     "text": [
      "torch.Size([2, 6])\n"
     ]
    },
    {
     "data": {
      "text/plain": [
       "tensor([[0.9098, 0.8901, 0.2768, 0.0364, 0.2100, 0.4975],\n",
       "        [0.3273, 0.1259, 0.3977, 0.8549, 0.6711, 0.2330]])"
      ]
     },
     "execution_count": 140,
     "metadata": {},
     "output_type": "execute_result"
    }
   ],
   "source": [
    "a = torch.rand(2,6)\n",
    "print(a.size())\n",
    "a"
   ]
  },
  {
   "cell_type": "markdown",
   "metadata": {},
   "source": [
    "##### view - the same data as the self tensor but of a different shape"
   ]
  },
  {
   "cell_type": "code",
   "execution_count": 18,
   "metadata": {
    "ExecuteTime": {
     "end_time": "2023-03-07T08:53:40.351344Z",
     "start_time": "2023-03-07T08:53:40.344600Z"
    }
   },
   "outputs": [
    {
     "data": {
      "text/plain": [
       "torch.Size([12])"
      ]
     },
     "execution_count": 18,
     "metadata": {},
     "output_type": "execute_result"
    }
   ],
   "source": [
    "a.view(-1).size()"
   ]
  },
  {
   "cell_type": "markdown",
   "metadata": {
    "ExecuteTime": {
     "end_time": "2023-03-07T08:57:00.993181Z",
     "start_time": "2023-03-07T08:57:00.989040Z"
    }
   },
   "source": [
    "##### squeeze - all the dimensions of input of size 1 removed."
   ]
  },
  {
   "cell_type": "code",
   "execution_count": 33,
   "metadata": {
    "ExecuteTime": {
     "end_time": "2023-03-07T08:58:04.232545Z",
     "start_time": "2023-03-07T08:58:04.224946Z"
    }
   },
   "outputs": [
    {
     "data": {
      "text/plain": [
       "torch.Size([3, 1, 2, 1, 1, 2])"
      ]
     },
     "execution_count": 33,
     "metadata": {},
     "output_type": "execute_result"
    }
   ],
   "source": [
    "a_new = a.view(3,1,2,1,1,2)\n",
    "a_new.size()"
   ]
  },
  {
   "cell_type": "code",
   "execution_count": 34,
   "metadata": {
    "ExecuteTime": {
     "end_time": "2023-03-07T08:58:07.339027Z",
     "start_time": "2023-03-07T08:58:07.332214Z"
    }
   },
   "outputs": [
    {
     "data": {
      "text/plain": [
       "torch.Size([3, 2, 2])"
      ]
     },
     "execution_count": 34,
     "metadata": {},
     "output_type": "execute_result"
    }
   ],
   "source": [
    "a_new.squeeze().size()"
   ]
  },
  {
   "cell_type": "markdown",
   "metadata": {},
   "source": [
    "##### unsqueeze -  a dimension of size one inserted at the specified position"
   ]
  },
  {
   "cell_type": "code",
   "execution_count": 35,
   "metadata": {
    "ExecuteTime": {
     "end_time": "2023-03-07T08:59:01.706210Z",
     "start_time": "2023-03-07T08:59:01.699998Z"
    }
   },
   "outputs": [
    {
     "data": {
      "text/plain": [
       "torch.Size([2, 6])"
      ]
     },
     "execution_count": 35,
     "metadata": {},
     "output_type": "execute_result"
    }
   ],
   "source": [
    "a.size()"
   ]
  },
  {
   "cell_type": "code",
   "execution_count": 39,
   "metadata": {
    "ExecuteTime": {
     "end_time": "2023-03-07T08:59:38.729749Z",
     "start_time": "2023-03-07T08:59:38.723311Z"
    }
   },
   "outputs": [
    {
     "data": {
      "text/plain": [
       "torch.Size([2, 1, 6])"
      ]
     },
     "execution_count": 39,
     "metadata": {},
     "output_type": "execute_result"
    }
   ],
   "source": [
    "a.unsqueeze(1).size()"
   ]
  },
  {
   "cell_type": "code",
   "execution_count": 40,
   "metadata": {
    "ExecuteTime": {
     "end_time": "2023-03-07T08:59:51.533869Z",
     "start_time": "2023-03-07T08:59:51.527243Z"
    }
   },
   "outputs": [
    {
     "data": {
      "text/plain": [
       "torch.Size([2, 1, 1, 6])"
      ]
     },
     "execution_count": 40,
     "metadata": {},
     "output_type": "execute_result"
    }
   ],
   "source": [
    "a.unsqueeze(1).unsqueeze(1).size()"
   ]
  },
  {
   "cell_type": "code",
   "execution_count": 42,
   "metadata": {
    "ExecuteTime": {
     "end_time": "2023-03-07T09:00:28.123315Z",
     "start_time": "2023-03-07T09:00:28.116369Z"
    }
   },
   "outputs": [
    {
     "data": {
      "text/plain": [
       "torch.Size([2, 6])"
      ]
     },
     "execution_count": 42,
     "metadata": {},
     "output_type": "execute_result"
    }
   ],
   "source": [
    "a.unsqueeze(1).unsqueeze(1).squeeze().size()"
   ]
  },
  {
   "cell_type": "markdown",
   "metadata": {
    "ExecuteTime": {
     "end_time": "2023-03-07T09:00:43.857363Z",
     "start_time": "2023-03-07T09:00:43.853222Z"
    }
   },
   "source": [
    "##### transpose - the given dimensions dim0 and dim1 are swapped"
   ]
  },
  {
   "cell_type": "code",
   "execution_count": 44,
   "metadata": {
    "ExecuteTime": {
     "end_time": "2023-03-07T09:00:51.638700Z",
     "start_time": "2023-03-07T09:00:51.632763Z"
    }
   },
   "outputs": [
    {
     "data": {
      "text/plain": [
       "torch.Size([2, 6])"
      ]
     },
     "execution_count": 44,
     "metadata": {},
     "output_type": "execute_result"
    }
   ],
   "source": [
    "a.size()"
   ]
  },
  {
   "cell_type": "code",
   "execution_count": 52,
   "metadata": {
    "ExecuteTime": {
     "end_time": "2023-03-07T09:02:49.102850Z",
     "start_time": "2023-03-07T09:02:49.096440Z"
    }
   },
   "outputs": [
    {
     "data": {
      "text/plain": [
       "torch.Size([6, 2])"
      ]
     },
     "execution_count": 52,
     "metadata": {},
     "output_type": "execute_result"
    }
   ],
   "source": [
    "a.transpose(0,1).size()"
   ]
  },
  {
   "cell_type": "code",
   "execution_count": 58,
   "metadata": {
    "ExecuteTime": {
     "end_time": "2023-03-07T09:06:44.072361Z",
     "start_time": "2023-03-07T09:06:44.065843Z"
    }
   },
   "outputs": [
    {
     "data": {
      "text/plain": [
       "torch.Size([2, 4, 7])"
      ]
     },
     "execution_count": 58,
     "metadata": {},
     "output_type": "execute_result"
    }
   ],
   "source": [
    "b = torch.rand(2,4,7)\n",
    "b.size()"
   ]
  },
  {
   "cell_type": "code",
   "execution_count": 63,
   "metadata": {
    "ExecuteTime": {
     "end_time": "2023-03-07T09:07:28.671469Z",
     "start_time": "2023-03-07T09:07:28.665803Z"
    }
   },
   "outputs": [
    {
     "data": {
      "text/plain": [
       "torch.Size([7, 4, 2])"
      ]
     },
     "execution_count": 63,
     "metadata": {},
     "output_type": "execute_result"
    }
   ],
   "source": [
    "b.transpose(0,2).size()"
   ]
  },
  {
   "cell_type": "markdown",
   "metadata": {},
   "source": [
    "##### padding (pad (left, right, top, bottom)"
   ]
  },
  {
   "cell_type": "code",
   "execution_count": 103,
   "metadata": {
    "ExecuteTime": {
     "end_time": "2023-03-07T10:38:21.315162Z",
     "start_time": "2023-03-07T10:38:21.307871Z"
    }
   },
   "outputs": [
    {
     "data": {
      "text/plain": [
       "torch.Size([2, 8])"
      ]
     },
     "execution_count": 103,
     "metadata": {},
     "output_type": "execute_result"
    }
   ],
   "source": [
    "import torch.nn.functional as F\n",
    "F.pad(a, (0, 2, 0, 0), value=0).size()"
   ]
  },
  {
   "cell_type": "markdown",
   "metadata": {
    "ExecuteTime": {
     "end_time": "2023-03-07T09:11:40.172395Z",
     "start_time": "2023-03-07T09:11:40.168627Z"
    }
   },
   "source": [
    "##### sum"
   ]
  },
  {
   "cell_type": "code",
   "execution_count": 148,
   "metadata": {
    "ExecuteTime": {
     "end_time": "2023-03-07T10:57:37.834932Z",
     "start_time": "2023-03-07T10:57:37.827341Z"
    }
   },
   "outputs": [
    {
     "data": {
      "text/plain": [
       "tensor([[1.9098, 1.8901, 1.2768, 1.0364, 1.2100, 1.4975],\n",
       "        [1.3273, 1.1259, 1.3977, 1.8549, 1.6711, 1.2330]])"
      ]
     },
     "execution_count": 148,
     "metadata": {},
     "output_type": "execute_result"
    }
   ],
   "source": [
    "a + 1"
   ]
  },
  {
   "cell_type": "code",
   "execution_count": 109,
   "metadata": {
    "ExecuteTime": {
     "end_time": "2023-03-07T10:45:06.420375Z",
     "start_time": "2023-03-07T10:45:06.415863Z"
    }
   },
   "outputs": [
    {
     "name": "stdout",
     "output_type": "stream",
     "text": [
      "size \"a\": torch.Size([2, 6])\n",
      "size \"b\": torch.Size([2, 4, 7])\n"
     ]
    }
   ],
   "source": [
    "print('size \"a\":', a.size())\n",
    "print('size \"b\":', b.size())"
   ]
  },
  {
   "cell_type": "markdown",
   "metadata": {
    "ExecuteTime": {
     "end_time": "2023-03-07T10:52:08.835852Z",
     "start_time": "2023-03-07T10:52:08.830064Z"
    }
   },
   "source": [
    "<b> The size of tensor a (6) must match the size of tensor b (7) at non-singleton dimension 2 </b>"
   ]
  },
  {
   "cell_type": "code",
   "execution_count": 137,
   "metadata": {
    "ExecuteTime": {
     "end_time": "2023-03-07T10:51:46.589860Z",
     "start_time": "2023-03-07T10:51:46.581872Z"
    }
   },
   "outputs": [
    {
     "data": {
      "text/plain": [
       "torch.Size([2, 4, 7])"
      ]
     },
     "execution_count": 137,
     "metadata": {},
     "output_type": "execute_result"
    }
   ],
   "source": [
    "a_new = F.pad(a, (0,2))\n",
    "a_new = a_new.view(2,4,2)\n",
    "a_new = F.pad(a_new, (0,5))\n",
    "a_new.size()"
   ]
  },
  {
   "cell_type": "code",
   "execution_count": 138,
   "metadata": {
    "ExecuteTime": {
     "end_time": "2023-03-07T10:51:47.606265Z",
     "start_time": "2023-03-07T10:51:47.598953Z"
    }
   },
   "outputs": [
    {
     "data": {
      "text/plain": [
       "tensor([[[0.9552, 0.8251, 0.5287, 0.2246, 0.5642, 0.1204, 0.7499],\n",
       "         [1.1331, 0.7273, 0.2868, 0.9403, 0.1954, 0.2629, 0.2350],\n",
       "         [0.8802, 1.7028, 0.7381, 0.8874, 0.8019, 0.8475, 0.4830],\n",
       "         [0.1206, 0.6260, 0.3379, 0.7733, 0.3185, 0.9651, 0.1322]],\n",
       "\n",
       "        [[1.4241, 1.4767, 0.8398, 0.2521, 0.0185, 0.0623, 0.9509],\n",
       "         [1.3656, 1.3942, 0.7359, 0.3367, 0.6506, 0.7893, 0.0812],\n",
       "         [0.9041, 1.5118, 0.8635, 0.7528, 0.0934, 0.6783, 0.3384],\n",
       "         [0.1313, 0.6252, 0.4128, 0.0687, 0.2544, 0.5716, 0.6000]]])"
      ]
     },
     "execution_count": 138,
     "metadata": {},
     "output_type": "execute_result"
    }
   ],
   "source": [
    "a_new + b"
   ]
  },
  {
   "cell_type": "markdown",
   "metadata": {},
   "source": [
    "##### numpy\n",
    "\n",
    "tensor -> numpy (изменение тензора изменяет numpy array) <br>\n",
    "numpy -> tensor (изменение numpy array не изменяет тензор)"
   ]
  },
  {
   "cell_type": "code",
   "execution_count": 149,
   "metadata": {
    "ExecuteTime": {
     "end_time": "2023-03-07T10:58:45.294731Z",
     "start_time": "2023-03-07T10:58:45.287698Z"
    }
   },
   "outputs": [
    {
     "data": {
      "text/plain": [
       "array([[0.90979826, 0.89008623, 0.2767753 , 0.03636801, 0.21004218,\n",
       "        0.4975348 ],\n",
       "       [0.3273155 , 0.12594438, 0.39773566, 0.85494477, 0.6711241 ,\n",
       "        0.23301935]], dtype=float32)"
      ]
     },
     "execution_count": 149,
     "metadata": {},
     "output_type": "execute_result"
    }
   ],
   "source": [
    "a_np = a.numpy()\n",
    "a_np"
   ]
  },
  {
   "cell_type": "code",
   "execution_count": 151,
   "metadata": {
    "ExecuteTime": {
     "end_time": "2023-03-07T10:59:16.317148Z",
     "start_time": "2023-03-07T10:59:16.310676Z"
    }
   },
   "outputs": [
    {
     "data": {
      "text/plain": [
       "array([[1.9097983, 1.8900862, 1.2767754, 1.036368 , 1.2100422, 1.4975348],\n",
       "       [1.3273156, 1.1259444, 1.3977356, 1.8549447, 1.6711241, 1.2330194]],\n",
       "      dtype=float32)"
      ]
     },
     "execution_count": 151,
     "metadata": {},
     "output_type": "execute_result"
    }
   ],
   "source": [
    "a.add_(1)\n",
    "a_np"
   ]
  },
  {
   "cell_type": "code",
   "execution_count": 157,
   "metadata": {
    "ExecuteTime": {
     "end_time": "2023-03-07T12:19:14.052614Z",
     "start_time": "2023-03-07T12:19:14.044984Z"
    }
   },
   "outputs": [
    {
     "data": {
      "text/plain": [
       "tensor([ 1,  3, -1,  7])"
      ]
     },
     "execution_count": 157,
     "metadata": {},
     "output_type": "execute_result"
    }
   ],
   "source": [
    "g = np.array([1,3,-1,7])\n",
    "\n",
    "a_tch = torch.from_numpy(g)\n",
    "a_tch"
   ]
  },
  {
   "cell_type": "code",
   "execution_count": 158,
   "metadata": {
    "ExecuteTime": {
     "end_time": "2023-03-07T12:19:21.377344Z",
     "start_time": "2023-03-07T12:19:21.370556Z"
    }
   },
   "outputs": [
    {
     "data": {
      "text/plain": [
       "tensor([ 1,  3, -1,  7])"
      ]
     },
     "execution_count": 158,
     "metadata": {},
     "output_type": "execute_result"
    }
   ],
   "source": [
    "g = g+1\n",
    "a_tch"
   ]
  }
 ],
 "metadata": {
  "kernelspec": {
   "display_name": "Python 3 (ipykernel)",
   "language": "python",
   "name": "python3"
  },
  "language_info": {
   "codemirror_mode": {
    "name": "ipython",
    "version": 3
   },
   "file_extension": ".py",
   "mimetype": "text/x-python",
   "name": "python",
   "nbconvert_exporter": "python",
   "pygments_lexer": "ipython3",
   "version": "3.8.10"
  },
  "toc": {
   "base_numbering": 1,
   "nav_menu": {},
   "number_sections": true,
   "sideBar": true,
   "skip_h1_title": false,
   "title_cell": "Table of Contents",
   "title_sidebar": "Contents",
   "toc_cell": false,
   "toc_position": {},
   "toc_section_display": true,
   "toc_window_display": false
  }
 },
 "nbformat": 4,
 "nbformat_minor": 2
}
