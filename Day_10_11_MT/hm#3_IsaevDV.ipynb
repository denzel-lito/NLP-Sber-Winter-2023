{
 "cells": [
  {
   "cell_type": "markdown",
   "id": "20f67e52",
   "metadata": {},
   "source": [
    "В pdf описание задания в пункте 5 (в конеце), описание возможных улучшений - в подпунктах пункта 4\n",
    "Бейзлайновый код, который нужно модифицировать - в .tar.gz\n",
    "Срок - 10 мая, 9 утра"
   ]
  },
  {
   "cell_type": "markdown",
   "id": "ce3fd43f",
   "metadata": {},
   "source": [
    "Итак: Сделать норм алайнмент и нужно 2 улучшения одно из них, например - добавить пос таги"
   ]
  },
  {
   "cell_type": "code",
   "execution_count": null,
   "id": "f22c9810",
   "metadata": {},
   "outputs": [],
   "source": []
  }
 ],
 "metadata": {
  "kernelspec": {
   "display_name": "Python 3 (ipykernel)",
   "language": "python",
   "name": "python3"
  },
  "language_info": {
   "codemirror_mode": {
    "name": "ipython",
    "version": 3
   },
   "file_extension": ".py",
   "mimetype": "text/x-python",
   "name": "python",
   "nbconvert_exporter": "python",
   "pygments_lexer": "ipython3",
   "version": "3.8.10"
  },
  "toc": {
   "base_numbering": 1,
   "nav_menu": {},
   "number_sections": true,
   "sideBar": true,
   "skip_h1_title": false,
   "title_cell": "Table of Contents",
   "title_sidebar": "Contents",
   "toc_cell": false,
   "toc_position": {},
   "toc_section_display": true,
   "toc_window_display": false
  }
 },
 "nbformat": 4,
 "nbformat_minor": 5
}
