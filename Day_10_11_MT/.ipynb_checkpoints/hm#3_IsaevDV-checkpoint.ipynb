{
 "cells": [
  {
   "cell_type": "markdown",
   "id": "20f67e52",
   "metadata": {},
   "source": [
    "В pdf описание задания в пункте 5 (в конеце), описание возможных улучшений - в подпунктах пункта 4\n",
    "Бейзлайновый код, который нужно модифицировать - в .tar.gz\n",
    "Срок - 10 мая, 9 утра"
   ]
  },
  {
   "cell_type": "markdown",
   "id": "ce3fd43f",
   "metadata": {},
   "source": [
    "Итак: Сделать норм алайнмент и нужно 2 улучшения одно из них, например - добавить пос таги"
   ]
  },
  {
   "cell_type": "code",
   "execution_count": null,
   "id": "f22c9810",
   "metadata": {},
   "outputs": [],
   "source": [
    "corpus_reader.py - читает корпуса и word_alignment \n",
    "word_alignment   - нужно получить"
   ]
  },
  {
   "cell_type": "code",
   "execution_count": null,
   "id": "dd0ca68a",
   "metadata": {},
   "outputs": [],
   "source": [
    "toy_aligner - считает сколько раз каждая пара исходного и целевого слова встретилась вместе\n",
    "каждому слову сопоставляет самое частое target-слово\n",
    "\n",
    "бере на вход исходный и целевой корпус и выдает элайнер"
   ]
  },
  {
   "cell_type": "markdown",
   "id": "570b3778",
   "metadata": {},
   "source": [
    "# models.py"
   ]
  },
  {
   "cell_type": "code",
   "execution_count": null,
   "id": "6068473a",
   "metadata": {},
   "outputs": [],
   "source": [
    "- модель перевода - по элайнменту и sourse-слову сгенерировать распределение вероятностей по таргету\n",
    "! нужно имплементировать функции"
   ]
  },
  {
   "cell_type": "code",
   "execution_count": null,
   "id": "630f8598",
   "metadata": {},
   "outputs": [],
   "source": [
    "- праер модель - генерация вероятностей элайнмента по длинам и индексам токенов"
   ]
  },
  {
   "cell_type": "markdown",
   "id": "6ba55ecf",
   "metadata": {},
   "source": [
    "# word_alignment.py"
   ]
  },
  {
   "cell_type": "code",
   "execution_count": 1,
   "id": "f8330f88",
   "metadata": {
    "ExecuteTime": {
     "end_time": "2023-05-04T08:35:57.446764Z",
     "start_time": "2023-05-04T08:35:57.434766Z"
    }
   },
   "outputs": [
    {
     "ename": "SyntaxError",
     "evalue": "invalid syntax (2529224267.py, line 2)",
     "output_type": "error",
     "traceback": [
      "\u001b[0;36m  Input \u001b[0;32mIn [1]\u001b[0;36m\u001b[0m\n\u001b[0;31m    апостериорное распределение\u001b[0m\n\u001b[0m                  ^\u001b[0m\n\u001b[0;31mSyntaxError\u001b[0m\u001b[0;31m:\u001b[0m invalid syntax\n"
     ]
    }
   ],
   "source": [
    "! нужно имплементировать\n",
    "апостериорное распределение\n",
    "ожидаемую статистику\n",
    "фукнцию сопоставления"
   ]
  },
  {
   "cell_type": "code",
   "execution_count": null,
   "id": "f6338934",
   "metadata": {},
   "outputs": [],
   "source": [
    "# %run -i 'script.py'"
   ]
  },
  {
   "cell_type": "code",
   "execution_count": null,
   "id": "d27b5c59",
   "metadata": {},
   "outputs": [],
   "source": [
    "python toy_aligner.py src_corpus trg_corpus > wa_output."
   ]
  },
  {
   "cell_type": "code",
   "execution_count": null,
   "id": "9b980a20",
   "metadata": {},
   "outputs": [],
   "source": [
    "python toy_aligner.py  /Users/16971921/Documents/my_python_work/NLP-Sber-Winter-2023/Day_10_11_MT/mt_wa_talbot/training/en-cs.en.train.tokens.10K  /Users/16971921/Documents/my_python_work/NLP-Sber-Winter-2023/Day_10_11_MT/mt_wa_talbot/training/en-cs.cs.train.tokens.10K"
   ]
  }
 ],
 "metadata": {
  "kernelspec": {
   "display_name": "Python 3 (ipykernel)",
   "language": "python",
   "name": "python3"
  },
  "language_info": {
   "codemirror_mode": {
    "name": "ipython",
    "version": 3
   },
   "file_extension": ".py",
   "mimetype": "text/x-python",
   "name": "python",
   "nbconvert_exporter": "python",
   "pygments_lexer": "ipython3",
   "version": "3.8.10"
  },
  "toc": {
   "base_numbering": 1,
   "nav_menu": {},
   "number_sections": true,
   "sideBar": true,
   "skip_h1_title": false,
   "title_cell": "Table of Contents",
   "title_sidebar": "Contents",
   "toc_cell": false,
   "toc_position": {},
   "toc_section_display": true,
   "toc_window_display": false
  }
 },
 "nbformat": 4,
 "nbformat_minor": 5
}
