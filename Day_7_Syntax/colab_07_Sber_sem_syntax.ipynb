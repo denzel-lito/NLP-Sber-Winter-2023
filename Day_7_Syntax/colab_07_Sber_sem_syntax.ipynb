{
  "cells": [
    {
      "cell_type": "markdown",
      "metadata": {
        "id": "FIk9VHDOVes8"
      },
      "source": [
        "# Depencency parsing\n",
        "(парсинг зависимостей)\n",
        "\n",
        "## Что это?\n",
        "\n",
        "* наша цель -- представить предложение естественного языка в виде дерева\n",
        "* слова предложения -- вершины; *зависимости (dependencies)* между ними -- рёбра\n",
        "* зависимости могут быть разными: например, субъект глагола, объект глагола, прилагательное-модификатор, и так далее\n",
        "\n",
        "## Формат\n",
        "\n",
        "Существует несколько форматов записи деревьев зависимостей, но самый популярный и общеиспользуемый -- [CoNLL-U](http://universaldependencies.org/format.html).<br/>\n",
        "Как это выглядит (пример из [русского Universal Dependency трибанка](https://github.com/UniversalDependencies/UD_Russian-SynTagRus)):"
      ]
    },
    {
      "cell_type": "code",
      "execution_count": 54,
      "metadata": {
        "ExecuteTime": {
          "end_time": "2023-04-10T14:20:37.567795Z",
          "start_time": "2023-04-10T14:20:37.556080Z"
        },
        "id": "T8PQynN_Ves_"
      },
      "outputs": [],
      "source": [
        "my_example = \"\"\"\n",
        "# sent_id = 2003Armeniya.xml_138\n",
        "# text = Перспективы развития сферы высоких технологий.\n",
        "1\tПерспективы\tперспектива\tNOUN\t_\tAnimacy=Inan|Case=Nom|Gender=Fem|Number=Plur\t0\tROOT\t0:root\t_\n",
        "2\tразвития\tразвитие\tNOUN\t_\tAnimacy=Inan|Case=Gen|Gender=Neut|Number=Sing\t1\tnmod\t1:nmod\t_\n",
        "3\tсферы\tсфера\tNOUN\t_\tAnimacy=Inan|Case=Gen|Gender=Fem|Number=Sing\t2\tnmod\t2:nmod\t_\n",
        "4\tвысоких\tвысокий\tADJ\t_\tCase=Gen|Degree=Pos|Number=Plur\t5\tamod\t5:amod\t_\n",
        "5\tтехнологий\tтехнология\tNOUN\t_\tAnimacy=Inan|Case=Gen|Gender=Fem|Number=Plur\t3\tnmod\t3:nmod\tSpaceAfter=No\n",
        "6\t.\t.\tPUNCT\t_\t_\t1\tpunct\t1:punct\t_\n",
        "\"\"\""
      ]
    },
    {
      "cell_type": "markdown",
      "metadata": {
        "id": "WNoZKL3YVetB"
      },
      "source": [
        "Комментарии + таблица c 9 колонками (разделители табы):\n",
        "* ID\n",
        "* FORM: токен\n",
        "* LEMMA: начальная форма\n",
        "* UPOS: универсальная часть речи\n",
        "* XPOS: лингво-специфичная часть речи\n",
        "* FEATS: морфологическая информация: падеж, род, число etc\n",
        "* HEAD: id ролителя\n",
        "* DEPREL: тип зависимости, то есть отношение к токену-родителю\n",
        "* DEPS: альтернативный подграф (не будем углубляться :))\n",
        "* MISC: всё остальное\n",
        "\n",
        "Отсутствующие данные представляются с помощью `_`. Больше подробностей про формат -- в [официальной документаци](http://universaldependencies.org/format.html).<br>\n",
        "User-friendly визуализация: ![2003Armeniya.xml_138](rus_tree.png)\n",
        "\n",
        "Отрытый инструмент для визуализации, ручной разметки и конвертации в другие форматы: UD Annotatrix. [Online-интерфейс](https://maryszmary.github.io/ud-annotatrix/standalone/annotator.html), [репозиторий](https://github.com/jonorthwash/ud-annotatrix).\n",
        "\n",
        "Трибанк -- много таких предложений. Обычно они разделяются двумя переносами строки.\n",
        "### Как считывать данные в питоне\n",
        "\n",
        "Используем библиотеку [conllu](https://github.com/EmilStenstrom/conllu)."
      ]
    },
    {
      "cell_type": "code",
      "execution_count": 55,
      "metadata": {
        "ExecuteTime": {
          "end_time": "2023-04-10T14:20:37.580645Z",
          "start_time": "2023-04-10T14:20:37.570926Z"
        },
        "id": "_482_64FVetC"
      },
      "outputs": [],
      "source": [
        "# !pip3 install conllu\n",
        "from conllu import parse"
      ]
    },
    {
      "cell_type": "code",
      "execution_count": 56,
      "metadata": {
        "ExecuteTime": {
          "end_time": "2023-04-10T14:20:37.587802Z",
          "start_time": "2023-04-10T14:20:37.582697Z"
        },
        "colab": {
          "base_uri": "https://localhost:8080/"
        },
        "id": "KaBMheBgVetC",
        "outputId": "fff7a241-1d37-42ac-b1ae-284e14dd2d4d"
      },
      "outputs": [
        {
          "output_type": "stream",
          "name": "stdout",
          "text": [
            "Help on function parse in module conllu:\n",
            "\n",
            "parse(data: str, fields: Optional[Sequence[str]] = None, field_parsers: Dict[str, Callable[[List[str], int], Any]] = None, metadata_parsers: Optional[Dict[str, Callable[[str, Optional[str]], Any]]] = None) -> conllu.models.SentenceList\n",
            "\n"
          ]
        }
      ],
      "source": [
        "help(parse)"
      ]
    },
    {
      "cell_type": "code",
      "execution_count": 57,
      "metadata": {
        "ExecuteTime": {
          "end_time": "2023-04-10T14:20:37.598732Z",
          "start_time": "2023-04-10T14:20:37.591280Z"
        },
        "colab": {
          "base_uri": "https://localhost:8080/"
        },
        "id": "-uwu7yizVetE",
        "outputId": "a671f088-03c5-4fa2-a0c6-dfd8df84ba4e"
      },
      "outputs": [
        {
          "output_type": "execute_result",
          "data": {
            "text/plain": [
              "{'id': 1,\n",
              " 'form': 'Перспективы',\n",
              " 'lemma': 'перспектива',\n",
              " 'upos': 'NOUN',\n",
              " 'xpos': None,\n",
              " 'feats': {'Animacy': 'Inan',\n",
              "  'Case': 'Nom',\n",
              "  'Gender': 'Fem',\n",
              "  'Number': 'Plur'},\n",
              " 'head': 0,\n",
              " 'deprel': 'ROOT',\n",
              " 'deps': [('root', 0)],\n",
              " 'misc': None}"
            ]
          },
          "metadata": {},
          "execution_count": 57
        }
      ],
      "source": [
        "sentences = parse(my_example)\n",
        "sentence = sentences[0]\n",
        "sentence[0]"
      ]
    },
    {
      "cell_type": "code",
      "execution_count": 58,
      "metadata": {
        "ExecuteTime": {
          "end_time": "2023-04-10T14:20:37.606480Z",
          "start_time": "2023-04-10T14:20:37.601571Z"
        },
        "id": "tZHLEZHYVetF",
        "outputId": "65991cdb-c01c-40d4-b48e-dd5c31661139",
        "colab": {
          "base_uri": "https://localhost:8080/"
        }
      },
      "outputs": [
        {
          "output_type": "execute_result",
          "data": {
            "text/plain": [
              "{'id': 6,\n",
              " 'form': '.',\n",
              " 'lemma': '.',\n",
              " 'upos': 'PUNCT',\n",
              " 'xpos': None,\n",
              " 'feats': None,\n",
              " 'head': 1,\n",
              " 'deprel': 'punct',\n",
              " 'deps': [('punct', 1)],\n",
              " 'misc': None}"
            ]
          },
          "metadata": {},
          "execution_count": 58
        }
      ],
      "source": [
        "sentence[-1]"
      ]
    },
    {
      "cell_type": "markdown",
      "metadata": {
        "id": "fW3t7cWsVetF"
      },
      "source": [
        "## Визуализация\n",
        "\n",
        "В nltk есть DependencyGraph, который умеет рисовать деревья (и ещё многое другое). Для того, чтобы визуализация работала корректно, ему нужна зависимость: graphviz.\n",
        "\n",
        "```\n",
        "sudo apt-get install graphviz\n",
        "pip3 install graphviz\n",
        "```"
      ]
    },
    {
      "cell_type": "code",
      "execution_count": 59,
      "metadata": {
        "ExecuteTime": {
          "end_time": "2023-04-10T14:20:38.934213Z",
          "start_time": "2023-04-10T14:20:37.608972Z"
        },
        "id": "PVYFlwHQVetG"
      },
      "outputs": [],
      "source": [
        "from nltk import DependencyGraph"
      ]
    },
    {
      "cell_type": "markdown",
      "metadata": {
        "id": "BNxnIOFFVetG"
      },
      "source": [
        "В отличие от `conllu`, `DependencyGraph` не справляется с комментариями, поэтому придётся их убрать. Кроме того ему обязательно нужен `deprel` *ROOT* в верхнем регистре, иначе он не находит корень."
      ]
    },
    {
      "cell_type": "code",
      "execution_count": 60,
      "metadata": {
        "ExecuteTime": {
          "end_time": "2023-04-10T14:20:38.942397Z",
          "start_time": "2023-04-10T14:20:38.937062Z"
        },
        "id": "NOepyE1GVetH"
      },
      "outputs": [],
      "source": [
        "sents = []\n",
        "for sent in my_example.split('\\n\\n'):\n",
        "    # убираем коменты\n",
        "    sent = '\\n'.join([line for line in sent.split('\\n') if not line.startswith('#')])\n",
        "    # заменяем deprel для root\n",
        "    sent = sent.replace('\\troot\\t', '\\tROOT\\t')\n",
        "    sents.append(sent)"
      ]
    },
    {
      "cell_type": "code",
      "execution_count": 61,
      "metadata": {
        "ExecuteTime": {
          "end_time": "2023-04-10T14:20:38.949622Z",
          "start_time": "2023-04-10T14:20:38.945189Z"
        },
        "id": "tYzKY2N1VetH",
        "outputId": "578e01e7-39e6-4670-e4ea-e29fafa0cfdc",
        "colab": {
          "base_uri": "https://localhost:8080/",
          "height": 660
        }
      },
      "outputs": [
        {
          "output_type": "execute_result",
          "data": {
            "text/plain": [
              "<DependencyGraph with 7 nodes>"
            ],
            "image/svg+xml": "<?xml version=\"1.0\" encoding=\"UTF-8\" standalone=\"no\"?>\n<!DOCTYPE svg PUBLIC \"-//W3C//DTD SVG 1.1//EN\"\n \"http://www.w3.org/Graphics/SVG/1.1/DTD/svg11.dtd\">\n<!-- Generated by graphviz version 2.43.0 (0)\n -->\n<!-- Title: G Pages: 1 -->\n<svg width=\"177pt\" height=\"479pt\"\n viewBox=\"0.00 0.00 177.00 479.00\" xmlns=\"http://www.w3.org/2000/svg\" xmlns:xlink=\"http://www.w3.org/1999/xlink\">\n<g id=\"graph0\" class=\"graph\" transform=\"scale(1 1) rotate(0) translate(4 475)\">\n<title>G</title>\n<polygon fill=\"white\" stroke=\"transparent\" points=\"-4,4 -4,-475 173,-475 173,4 -4,4\"/>\n<!-- 0 -->\n<g id=\"node1\" class=\"node\">\n<title>0</title>\n<text text-anchor=\"middle\" x=\"97\" y=\"-449.3\" font-family=\"Times,serif\" font-size=\"14.00\">0 (None)</text>\n</g>\n<!-- 1 -->\n<g id=\"node2\" class=\"node\">\n<title>1</title>\n<text text-anchor=\"middle\" x=\"97\" y=\"-362.3\" font-family=\"Times,serif\" font-size=\"14.00\">1 (Перспективы)</text>\n</g>\n<!-- 0&#45;&gt;1 -->\n<g id=\"edge1\" class=\"edge\">\n<title>0&#45;&gt;1</title>\n<path fill=\"none\" stroke=\"black\" d=\"M97,-434.8C97,-423.16 97,-407.55 97,-394.24\"/>\n<polygon fill=\"black\" stroke=\"black\" points=\"100.5,-394.18 97,-384.18 93.5,-394.18 100.5,-394.18\"/>\n<text text-anchor=\"middle\" x=\"115.5\" y=\"-405.8\" font-family=\"Times,serif\" font-size=\"14.00\">ROOT</text>\n</g>\n<!-- 2 -->\n<g id=\"node3\" class=\"node\">\n<title>2</title>\n<text text-anchor=\"middle\" x=\"52\" y=\"-275.3\" font-family=\"Times,serif\" font-size=\"14.00\">2 (развития)</text>\n</g>\n<!-- 1&#45;&gt;2 -->\n<g id=\"edge2\" class=\"edge\">\n<title>1&#45;&gt;2</title>\n<path fill=\"none\" stroke=\"black\" d=\"M87.89,-347.8C81.55,-335.82 72.97,-319.62 65.79,-306.06\"/>\n<polygon fill=\"black\" stroke=\"black\" points=\"68.87,-304.38 61.09,-297.18 62.68,-307.65 68.87,-304.38\"/>\n<text text-anchor=\"middle\" x=\"94\" y=\"-318.8\" font-family=\"Times,serif\" font-size=\"14.00\">nmod</text>\n</g>\n<!-- 6 -->\n<g id=\"node4\" class=\"node\">\n<title>6</title>\n<text text-anchor=\"middle\" x=\"142\" y=\"-275.3\" font-family=\"Times,serif\" font-size=\"14.00\">6 (.)</text>\n</g>\n<!-- 1&#45;&gt;6 -->\n<g id=\"edge3\" class=\"edge\">\n<title>1&#45;&gt;6</title>\n<path fill=\"none\" stroke=\"black\" d=\"M106.11,-347.8C112.45,-335.82 121.03,-319.62 128.21,-306.06\"/>\n<polygon fill=\"black\" stroke=\"black\" points=\"131.32,-307.65 132.91,-297.18 125.13,-304.38 131.32,-307.65\"/>\n<text text-anchor=\"middle\" x=\"137.5\" y=\"-318.8\" font-family=\"Times,serif\" font-size=\"14.00\">punct</text>\n</g>\n<!-- 3 -->\n<g id=\"node5\" class=\"node\">\n<title>3</title>\n<text text-anchor=\"middle\" x=\"52\" y=\"-188.3\" font-family=\"Times,serif\" font-size=\"14.00\">3 (сферы)</text>\n</g>\n<!-- 2&#45;&gt;3 -->\n<g id=\"edge4\" class=\"edge\">\n<title>2&#45;&gt;3</title>\n<path fill=\"none\" stroke=\"black\" d=\"M52,-260.8C52,-249.16 52,-233.55 52,-220.24\"/>\n<polygon fill=\"black\" stroke=\"black\" points=\"55.5,-220.18 52,-210.18 48.5,-220.18 55.5,-220.18\"/>\n<text text-anchor=\"middle\" x=\"68\" y=\"-231.8\" font-family=\"Times,serif\" font-size=\"14.00\">nmod</text>\n</g>\n<!-- 5 -->\n<g id=\"node6\" class=\"node\">\n<title>5</title>\n<text text-anchor=\"middle\" x=\"52\" y=\"-101.3\" font-family=\"Times,serif\" font-size=\"14.00\">5 (технологий)</text>\n</g>\n<!-- 3&#45;&gt;5 -->\n<g id=\"edge5\" class=\"edge\">\n<title>3&#45;&gt;5</title>\n<path fill=\"none\" stroke=\"black\" d=\"M52,-173.8C52,-162.16 52,-146.55 52,-133.24\"/>\n<polygon fill=\"black\" stroke=\"black\" points=\"55.5,-133.18 52,-123.18 48.5,-133.18 55.5,-133.18\"/>\n<text text-anchor=\"middle\" x=\"68\" y=\"-144.8\" font-family=\"Times,serif\" font-size=\"14.00\">nmod</text>\n</g>\n<!-- 4 -->\n<g id=\"node7\" class=\"node\">\n<title>4</title>\n<text text-anchor=\"middle\" x=\"52\" y=\"-14.3\" font-family=\"Times,serif\" font-size=\"14.00\">4 (высоких)</text>\n</g>\n<!-- 5&#45;&gt;4 -->\n<g id=\"edge6\" class=\"edge\">\n<title>5&#45;&gt;4</title>\n<path fill=\"none\" stroke=\"black\" d=\"M52,-86.8C52,-75.16 52,-59.55 52,-46.24\"/>\n<polygon fill=\"black\" stroke=\"black\" points=\"55.5,-46.18 52,-36.18 48.5,-46.18 55.5,-46.18\"/>\n<text text-anchor=\"middle\" x=\"67.5\" y=\"-57.8\" font-family=\"Times,serif\" font-size=\"14.00\">amod</text>\n</g>\n</g>\n</svg>\n"
          },
          "metadata": {},
          "execution_count": 61
        }
      ],
      "source": [
        "graph = DependencyGraph(tree_str=sents[0])\n",
        "graph"
      ]
    },
    {
      "cell_type": "code",
      "execution_count": 62,
      "metadata": {
        "ExecuteTime": {
          "end_time": "2023-04-10T14:20:38.956685Z",
          "start_time": "2023-04-10T14:20:38.952533Z"
        },
        "id": "Lp33Jr7fVetI",
        "outputId": "15bff0c5-6580-4b45-e1bf-286131b7a057",
        "colab": {
          "base_uri": "https://localhost:8080/"
        }
      },
      "outputs": [
        {
          "output_type": "stream",
          "name": "stdout",
          "text": [
            "    Перспективы           \n",
            "  _______|__________       \n",
            " |               развития \n",
            " |                  |      \n",
            " |                сферы   \n",
            " |                  |      \n",
            " |              технологий\n",
            " |                  |      \n",
            " .               высоких  \n",
            "\n",
            "None\n"
          ]
        }
      ],
      "source": [
        "tree = graph.tree()\n",
        "print(tree.pretty_print())"
      ]
    },
    {
      "cell_type": "code",
      "source": [
        "def parse_to_graph(row_text):\n",
        "  lines = row_text.split('\\n')\n",
        "  lines = [i.replace('\\troot\\t', '\\tROOT\\t') for i in lines if not i.startswith('#') and i]\n",
        "  return DependencyGraph(tree_str='\\n'.join(lines))"
      ],
      "metadata": {
        "id": "JuNk0YfICbKl"
      },
      "execution_count": 219,
      "outputs": []
    },
    {
      "cell_type": "markdown",
      "metadata": {
        "id": "FBapmownVetJ"
      },
      "source": [
        "## UDPipe\n",
        "\n",
        "Есть разные инструменты для парсинга зависимостей. Сегодня мы будем работать с [UDPipe](http://ufal.mff.cuni.cz/udpipe). UDPipe умеет парсить текст с помощью готовых моделей (которые можно скачать [здесь](https://github.com/jwijffels/udpipe.models.ud.2.0/tree/master/inst/udpipe-ud-2.0-170801)) и обучать модели на своих трибанках.\n",
        "\n",
        "Собственно, в UDPipe есть три вида моделей:\n",
        "* токенизатор (разделить предложение не токены, сделать заготовку для CoNLL-U)\n",
        "* тэггер (разметить части речи)\n",
        "* сам парсер (проставить каждому токену `head` и `deprel`)\n",
        "\n",
        "Мы сегодня не будем обучать новых моделей (это слишком долго), а используем готовую модель для русского."
      ]
    },
    {
      "cell_type": "markdown",
      "metadata": {
        "id": "QXdhUXtWVetJ"
      },
      "source": [
        "### The Python binding\n",
        "\n",
        "У udpipe есть питоновская обвязка. Она довольно [плохо задокументирована](https://pypi.org/project/ufal.udpipe/), но зато можно использовать прямо в питоне :)"
      ]
    },
    {
      "cell_type": "code",
      "execution_count": 63,
      "metadata": {
        "ExecuteTime": {
          "end_time": "2023-04-11T07:15:58.718598Z",
          "start_time": "2023-04-11T07:15:58.694725Z"
        },
        "id": "iT9KgNTcVetK"
      },
      "outputs": [],
      "source": [
        "# !pip3 install ufal.udpipe\n",
        "from ufal.udpipe import Model, Pipeline"
      ]
    },
    {
      "cell_type": "code",
      "execution_count": 13,
      "metadata": {
        "ExecuteTime": {
          "end_time": "2023-04-11T07:15:59.877785Z",
          "start_time": "2023-04-11T07:15:59.872181Z"
        },
        "id": "idhhl6LKVetL",
        "colab": {
          "base_uri": "https://localhost:8080/"
        },
        "outputId": "c38b608c-11a1-41f3-ac4c-444014587765"
      },
      "outputs": [
        {
          "output_type": "stream",
          "name": "stdout",
          "text": [
            "Cloning into 'udpipe.models.ud.2.0'...\n",
            "remote: Enumerating objects: 87, done.\u001b[K\n",
            "remote: Total 87 (delta 0), reused 0 (delta 0), pack-reused 87\n",
            "Unpacking objects: 100% (87/87), 897.07 MiB | 18.43 MiB/s, done.\n",
            "Updating files: 100% (78/78), done.\n"
          ]
        }
      ],
      "source": [
        "# !git clone https://github.com/jwijffels/udpipe.models.ud.2.0.git"
      ]
    },
    {
      "cell_type": "code",
      "execution_count": 64,
      "metadata": {
        "ExecuteTime": {
          "end_time": "2023-04-11T07:16:12.537123Z",
          "start_time": "2023-04-11T07:16:11.599415Z"
        },
        "id": "CV1E2a23VetL"
      },
      "outputs": [],
      "source": [
        "model = Model.load(\"udpipe.models.ud.2.0/inst/udpipe-ud-2.0-170801/russian-ud-2.0-170801.udpipe\") # path to the model"
      ]
    },
    {
      "cell_type": "code",
      "execution_count": 65,
      "metadata": {
        "ExecuteTime": {
          "end_time": "2023-04-11T07:16:27.471933Z",
          "start_time": "2023-04-11T07:16:27.459529Z"
        },
        "id": "EPBiI8UsVetM",
        "outputId": "3d7b3cb0-beba-44c4-9f5e-11505182343c",
        "colab": {
          "base_uri": "https://localhost:8080/"
        }
      },
      "outputs": [
        {
          "output_type": "execute_result",
          "data": {
            "text/plain": [
              "<Swig Object of type 'model *' at 0x7fa3d3ec26b0>"
            ]
          },
          "metadata": {},
          "execution_count": 65
        }
      ],
      "source": [
        "# если успех, должно быть так (model != None)\n",
        "model"
      ]
    },
    {
      "cell_type": "code",
      "execution_count": 66,
      "metadata": {
        "ExecuteTime": {
          "end_time": "2023-04-11T07:16:30.140819Z",
          "start_time": "2023-04-11T07:16:30.121026Z"
        },
        "id": "9JUWWFXWVetM",
        "outputId": "d8c9b8d8-901e-4954-f41e-74634bd1ef85",
        "colab": {
          "base_uri": "https://localhost:8080/"
        }
      },
      "outputs": [
        {
          "output_type": "stream",
          "name": "stdout",
          "text": [
            "# newdoc\n",
            "# newpar\n",
            "# sent_id = 1\n",
            "# text = Если бы мне платили каждый раз.\n",
            "1\tЕсли\tЕСЛИ\tSCONJ\tIN\t_\t4\tmark\t_\t_\n",
            "2\tбы\tБЫ\tPART\tRP\t_\t4\tdiscourse\t_\t_\n",
            "3\tмне\tЯ\tPRON\tPRP\tCase=Dat|Number=Sing|Person=1\t4\tiobj\t_\t_\n",
            "4\tплатили\tПЛАТИТЬ\tVERB\tVBC\tAspect=Imp|Mood=Ind|Number=Plur|Tense=Past|VerbForm=Fin\t0\troot\t_\t_\n",
            "5\tкаждый\tКАЖДЫЙ\tDET\tDT\tAnimacy=Inan|Case=Acc|Gender=Masc|Number=Sing\t6\tamod\t_\t_\n",
            "6\tраз\tРАЗ\tNOUN\tNN\tAnimacy=Inan|Case=Acc|Gender=Masc|Number=Sing\t4\tadvmod\t_\tSpaceAfter=No\n",
            "7\t.\t.\tPUNCT\t.\t_\t4\tpunct\t_\t_\n",
            "\n",
            "# sent_id = 2\n",
            "# text = Каждый раз, когда я думаю о тебе.\n",
            "1\tКаждый\tКАЖДЫЙ\tDET\tDT\tAnimacy=Inan|Case=Acc|Gender=Masc|Number=Sing\t2\tamod\t_\t_\n",
            "2\tраз\tРАЗ\tNOUN\tNN\tAnimacy=Inan|Case=Acc|Gender=Masc|Number=Sing\t6\tadvmod\t_\tSpaceAfter=No\n",
            "3\t,\t,\tPUNCT\t,\t_\t6\tpunct\t_\t_\n",
            "4\tкогда\tКОГДА\tADV\tWRB\t_\t6\tadvmod\t_\t_\n",
            "5\tя\tЯ\tPRON\tPRP\tCase=Nom|Number=Sing|Person=1\t6\tnsubj\t_\t_\n",
            "6\tдумаю\tдУМАТЬ\tVERB\tVBC\tAspect=Imp|Mood=Ind|Number=Sing|Person=1|Tense=Pres|VerbForm=Fin\t0\troot\t_\t_\n",
            "7\tо\tО\tADP\tIN\t_\t8\tcase\t_\t_\n",
            "8\tтебе\tТЫ\tPRON\tPRP\tCase=Dat|Number=Sing|Person=2\t6\tobl\t_\tSpaceAfter=No\n",
            "9\t.\t.\tPUNCT\t.\t_\t6\tpunct\t_\tSpacesAfter=\\n\n",
            "\n",
            "\n"
          ]
        }
      ],
      "source": [
        "pipeline = Pipeline(model, 'generic_tokenizer', '', '', '')\n",
        "example = \"Если бы мне платили каждый раз. Каждый раз, когда я думаю о тебе.\"\n",
        "parsed = pipeline.process(example)\n",
        "print(parsed)"
      ]
    },
    {
      "cell_type": "markdown",
      "metadata": {
        "id": "sWTNDcptVetN"
      },
      "source": [
        "Как видим, UDPipe и токенизировал, и лематизировал текст, сделал POS-tagging и, собственно, синтаксический парсинг."
      ]
    },
    {
      "cell_type": "markdown",
      "metadata": {
        "id": "Wi6UhuqhVetN"
      },
      "source": [
        "### Command line interface\n",
        "\n",
        "Но с обвязкой бывают проблемы, и вообще довольно удобно пользоваться прекомпилированной утилитой `udpipe` из шелла. Она скачивается [здесь](https://github.com/ufal/udpipe/releases/tag/v1.2.0): (надеюсь, вы уже скачали всё заранее).<br>Внутри бинарники для всех популярных ОС, выбираем свою. У меня путь к бинарнику такой: `~/Documents/udpipe-1.2.0-bin/bin-linux64`.\n",
        "\n",
        "Синтаксис:"
      ]
    },
    {
      "cell_type": "code",
      "source": [
        "!wget https://github.com/ufal/udpipe/releases/download/v1.2.0/udpipe-1.2.0-bin.zip\n",
        "!unzip udpipe-1.2.0-bin.zip"
      ],
      "metadata": {
        "id": "MpKa60KXabh_"
      },
      "execution_count": 28,
      "outputs": []
    },
    {
      "cell_type": "code",
      "source": [
        "!udpipe-1.2.0-bin/bin-linux64/udpipe"
      ],
      "metadata": {
        "colab": {
          "base_uri": "https://localhost:8080/"
        },
        "id": "DaBsnkBjbImX",
        "outputId": "b4c35800-f276-4b08-8d8f-808dc91736f0"
      },
      "execution_count": 32,
      "outputs": [
        {
          "output_type": "stream",
          "name": "stdout",
          "text": [
            "Usage: udpipe-1.2.0-bin/bin-linux64/udpipe [running_opts] model_file [input_files]\n",
            "       udpipe-1.2.0-bin/bin-linux64/udpipe --train [training_opts] model_file [input_files]\n",
            "       udpipe-1.2.0-bin/bin-linux64/udpipe --detokenize [detokenize_opts] raw_text_file [input_files]\n",
            "Running opts: --accuracy (measure accuracy only)\n",
            "              --input=[conllu|generic_tokenizer|horizontal|vertical]\n",
            "              --immediate (process sentences immediately during loading)\n",
            "              --outfile=output file template\n",
            "              --output=[conllu|epe|matxin|horizontal|plaintext|vertical]\n",
            "              --tokenize (perform tokenization)\n",
            "              --tokenizer=tokenizer options, implies --tokenize\n",
            "              --tag (perform tagging)\n",
            "              --tagger=tagger options, implies --tag\n",
            "              --parse (perform parsing)\n",
            "              --parser=parser options, implies --parse\n",
            "Training opts: --method=[morphodita_parsito] which method to use\n",
            "               --heldout=heldout data file name\n",
            "               --tokenizer=tokenizer options\n",
            "               --tagger=tagger options\n",
            "               --parser=parser options\n",
            "Detokenize opts: --outfile=output file template\n",
            "Generic opts: --version\n",
            "              --help\n"
          ]
        }
      ]
    },
    {
      "cell_type": "markdown",
      "metadata": {
        "id": "iF7oUhHOVetO"
      },
      "source": [
        "Нас сегодня будет интересовать только парсинг, так что типичная команда будет выглядеть так:"
      ]
    },
    {
      "cell_type": "code",
      "execution_count": 67,
      "metadata": {
        "id": "kejTfSJ0VetO",
        "outputId": "f046025b-1646-4223-e185-6f37d0c99a7c",
        "colab": {
          "base_uri": "https://localhost:8080/"
        }
      },
      "outputs": [
        {
          "output_type": "stream",
          "name": "stdout",
          "text": [
            "Loading UDPipe model: done.\n",
            "# newdoc id = example.txt\n",
            "# newpar\n",
            "# sent_id = 1\n",
            "# text = Если бы мне платили каждый раз.\n",
            "1\tЕсли\tЕСЛИ\tSCONJ\tIN\t_\t4\tmark\t_\t_\n",
            "2\tбы\tБЫ\tPART\tRP\t_\t4\tdiscourse\t_\t_\n",
            "3\tмне\tЯ\tPRON\tPRP\tCase=Dat|Number=Sing|Person=1\t4\tiobj\t_\t_\n",
            "4\tплатили\tПЛАТИТЬ\tVERB\tVBC\tAspect=Imp|Mood=Ind|Number=Plur|Tense=Past|VerbForm=Fin\t0\troot\t_\t_\n",
            "5\tкаждый\tКАЖДЫЙ\tDET\tDT\tAnimacy=Inan|Case=Acc|Gender=Masc|Number=Sing\t6\tamod\t_\t_\n",
            "6\tраз\tРАЗ\tNOUN\tNN\tAnimacy=Inan|Case=Acc|Gender=Masc|Number=Sing\t4\tadvmod\t_\tSpaceAfter=No\n",
            "7\t.\t.\tPUNCT\t.\t_\t4\tpunct\t_\t_\n",
            "\n",
            "# sent_id = 2\n",
            "# text = Каждый раз, когда я думаю о тебе.\n",
            "1\tКаждый\tКАЖДЫЙ\tDET\tDT\tAnimacy=Inan|Case=Acc|Gender=Masc|Number=Sing\t2\tamod\t_\t_\n",
            "2\tраз\tРАЗ\tNOUN\tNN\tAnimacy=Inan|Case=Acc|Gender=Masc|Number=Sing\t6\tadvmod\t_\tSpaceAfter=No\n",
            "3\t,\t,\tPUNCT\t,\t_\t6\tpunct\t_\t_\n",
            "4\tкогда\tКОГДА\tADV\tWRB\t_\t6\tadvmod\t_\t_\n",
            "5\tя\tЯ\tPRON\tPRP\tCase=Nom|Number=Sing|Person=1\t6\tnsubj\t_\t_\n",
            "6\tдумаю\tдУМАТЬ\tVERB\tVBC\tAspect=Imp|Mood=Ind|Number=Sing|Person=1|Tense=Pres|VerbForm=Fin\t0\troot\t_\t_\n",
            "7\tо\tО\tADP\tIN\t_\t8\tcase\t_\t_\n",
            "8\tтебе\tТЫ\tPRON\tPRP\tCase=Dat|Number=Sing|Person=2\t6\tobl\t_\tSpaceAfter=No\n",
            "9\t.\t.\tPUNCT\t.\t_\t6\tpunct\t_\tSpacesAfter=\\n\n",
            "\n"
          ]
        }
      ],
      "source": [
        "with open('example.txt', 'w') as f:\n",
        "    f.write(example)\n",
        "\n",
        "! udpipe-1.2.0-bin/bin-linux64/udpipe --tokenize --tag --parse udpipe.models.ud.2.0/inst/udpipe-ud-2.0-170801/russian-ud-2.0-170801.udpipe example.txt > parsed_example.conllu\n",
        "! cat parsed_example.conllu"
      ]
    },
    {
      "cell_type": "markdown",
      "metadata": {
        "id": "Kmry_KA1VetP"
      },
      "source": [
        "(Ну а потом снова считываем проанализированные предложения питоном).\n",
        "\n",
        "Вот два способа работать с UDPipe. Choose your fighter! "
      ]
    },
    {
      "cell_type": "markdown",
      "metadata": {
        "id": "da_oBB00VetP"
      },
      "source": [
        "## Главред\n",
        "\n",
        "Главред -- [сервис](https://glvrd.ru/) для корекции стиля текста. Кроме интерфейса, у него есть [API](https://glvrd.ru/api/)!<br>\n",
        "На этом семинаре мы имплементируем несколько функций, делающих нечто похожее, на основе синтаксиса.\n",
        "\n",
        "Возьмём простой пример: предложение, перегруженное однородными членами."
      ]
    },
    {
      "cell_type": "code",
      "execution_count": 176,
      "metadata": {
        "id": "pscHzQvfVetQ",
        "outputId": "104f74cd-664a-4139-a3d9-ca8fb69776c3",
        "colab": {
          "base_uri": "https://localhost:8080/",
          "height": 938
        }
      },
      "outputs": [
        {
          "output_type": "stream",
          "name": "stdout",
          "text": [
            "# newdoc\n",
            "# newpar\n",
            "# sent_id = 1\n",
            "# text = Я пришла, включила компьютер, открыла почту, прочитала письмо, налила чай.\n",
            "1\tЯ\tЯ\tPRON\tPRP\tCase=Nom|Number=Sing|Person=1\t2\tnsubj\t_\t_\n",
            "2\tпришла\tприИДТИ\tVERB\tVBC\tAspect=Perf|Gender=Fem|Mood=Ind|Number=Sing|Tense=Past|VerbForm=Fin\t0\troot\t_\tSpaceAfter=No\n",
            "3\t,\t,\tPUNCT\t,\t_\t4\tpunct\t_\t_\n",
            "4\tвключила\tвключила\tVERB\tVBC\tAspect=Perf|Gender=Fem|Mood=Ind|Number=Sing|Tense=Past|VerbForm=Fin\t2\tconj\t_\t_\n",
            "5\tкомпьютер\tкомпьютер\tNOUN\tNN\tAnimacy=Anim|Case=Gen|Gender=Fem|Number=Plur\t4\tobj\t_\tSpaceAfter=No\n",
            "6\t,\t,\tPUNCT\t,\t_\t7\tpunct\t_\t_\n",
            "7\tоткрыла\tоткрЫТЬ\tVERB\tVBC\tAspect=Imp|Gender=Fem|Mood=Ind|Number=Sing|Tense=Past|VerbForm=Fin\t4\tconj\t_\t_\n",
            "8\tпочту\tпочТОТ\tNOUN\tNN\tAnimacy=Inan|Case=Acc|Gender=Fem|Number=Sing\t7\tobj\t_\tSpaceAfter=No\n",
            "9\t,\t,\tPUNCT\t,\t_\t10\tpunct\t_\t_\n",
            "10\tпрочитала\tпрочитала\tVERB\tVBC\tAspect=Imp|Gender=Fem|Mood=Ind|Number=Sing|Tense=Past|VerbForm=Fin\t2\tconj\t_\t_\n",
            "11\tписьмо\tПИСЬМО\tNOUN\tNN\tAnimacy=Inan|Case=Acc|Gender=Neut|Number=Sing\t10\tobj\t_\tSpaceAfter=No\n",
            "12\t,\t,\tPUNCT\t,\t_\t13\tpunct\t_\t_\n",
            "13\tналила\tнАЛИЛА\tVERB\tVBC\tAspect=Imp|Gender=Fem|Mood=Ind|Number=Sing|Tense=Past|VerbForm=Fin\t2\tconj\t_\t_\n",
            "14\tчай\tЧАЙ\tNOUN\tNN\tAnimacy=Inan|Case=Acc|Gender=Masc|Number=Sing\t13\tobj\t_\tSpaceAfter=No\n",
            "15\t.\t.\tPUNCT\t.\t_\t2\tpunct\t_\tSpacesAfter=\\n\n",
            "\n",
            "\n",
            "['1\\tЯ\\tЯ\\tPRON\\tPRP\\tCase=Nom|Number=Sing|Person=1\\t2\\tnsubj\\t_\\t_', '2\\tпришла\\tприИДТИ\\tVERB\\tVBC\\tAspect=Perf|Gender=Fem|Mood=Ind|Number=Sing|Tense=Past|VerbForm=Fin\\t0\\tROOT\\t_\\tSpaceAfter=No', '3\\t,\\t,\\tPUNCT\\t,\\t_\\t4\\tpunct\\t_\\t_', '4\\tвключила\\tвключила\\tVERB\\tVBC\\tAspect=Perf|Gender=Fem|Mood=Ind|Number=Sing|Tense=Past|VerbForm=Fin\\t2\\tconj\\t_\\t_', '5\\tкомпьютер\\tкомпьютер\\tNOUN\\tNN\\tAnimacy=Anim|Case=Gen|Gender=Fem|Number=Plur\\t4\\tobj\\t_\\tSpaceAfter=No', '6\\t,\\t,\\tPUNCT\\t,\\t_\\t7\\tpunct\\t_\\t_', '7\\tоткрыла\\tоткрЫТЬ\\tVERB\\tVBC\\tAspect=Imp|Gender=Fem|Mood=Ind|Number=Sing|Tense=Past|VerbForm=Fin\\t4\\tconj\\t_\\t_', '8\\tпочту\\tпочТОТ\\tNOUN\\tNN\\tAnimacy=Inan|Case=Acc|Gender=Fem|Number=Sing\\t7\\tobj\\t_\\tSpaceAfter=No', '9\\t,\\t,\\tPUNCT\\t,\\t_\\t10\\tpunct\\t_\\t_', '10\\tпрочитала\\tпрочитала\\tVERB\\tVBC\\tAspect=Imp|Gender=Fem|Mood=Ind|Number=Sing|Tense=Past|VerbForm=Fin\\t2\\tconj\\t_\\t_', '11\\tписьмо\\tПИСЬМО\\tNOUN\\tNN\\tAnimacy=Inan|Case=Acc|Gender=Neut|Number=Sing\\t10\\tobj\\t_\\tSpaceAfter=No', '12\\t,\\t,\\tPUNCT\\t,\\t_\\t13\\tpunct\\t_\\t_', '13\\tналила\\tнАЛИЛА\\tVERB\\tVBC\\tAspect=Imp|Gender=Fem|Mood=Ind|Number=Sing|Tense=Past|VerbForm=Fin\\t2\\tconj\\t_\\t_', '14\\tчай\\tЧАЙ\\tNOUN\\tNN\\tAnimacy=Inan|Case=Acc|Gender=Masc|Number=Sing\\t13\\tobj\\t_\\tSpaceAfter=No', '15\\t.\\t.\\tPUNCT\\t.\\t_\\t2\\tpunct\\t_\\tSpacesAfter=\\\\n']\n"
          ]
        },
        {
          "output_type": "execute_result",
          "data": {
            "text/plain": [
              "<DependencyGraph with 16 nodes>"
            ],
            "image/svg+xml": "<?xml version=\"1.0\" encoding=\"UTF-8\" standalone=\"no\"?>\n<!DOCTYPE svg PUBLIC \"-//W3C//DTD SVG 1.1//EN\"\n \"http://www.w3.org/Graphics/SVG/1.1/DTD/svg11.dtd\">\n<!-- Generated by graphviz version 2.43.0 (0)\n -->\n<!-- Title: G Pages: 1 -->\n<svg width=\"615pt\" height=\"392pt\"\n viewBox=\"0.00 0.00 614.50 392.00\" xmlns=\"http://www.w3.org/2000/svg\" xmlns:xlink=\"http://www.w3.org/1999/xlink\">\n<g id=\"graph0\" class=\"graph\" transform=\"scale(1 1) rotate(0) translate(4 388)\">\n<title>G</title>\n<polygon fill=\"white\" stroke=\"transparent\" points=\"-4,4 -4,-388 610.5,-388 610.5,4 -4,4\"/>\n<!-- 0 -->\n<g id=\"node1\" class=\"node\">\n<title>0</title>\n<text text-anchor=\"middle\" x=\"368\" y=\"-362.3\" font-family=\"Times,serif\" font-size=\"14.00\">0 (None)</text>\n</g>\n<!-- 2 -->\n<g id=\"node2\" class=\"node\">\n<title>2</title>\n<text text-anchor=\"middle\" x=\"368\" y=\"-275.3\" font-family=\"Times,serif\" font-size=\"14.00\">2 (пришла)</text>\n</g>\n<!-- 0&#45;&gt;2 -->\n<g id=\"edge1\" class=\"edge\">\n<title>0&#45;&gt;2</title>\n<path fill=\"none\" stroke=\"black\" d=\"M368,-347.8C368,-336.16 368,-320.55 368,-307.24\"/>\n<polygon fill=\"black\" stroke=\"black\" points=\"371.5,-307.18 368,-297.18 364.5,-307.18 371.5,-307.18\"/>\n<text text-anchor=\"middle\" x=\"386.5\" y=\"-318.8\" font-family=\"Times,serif\" font-size=\"14.00\">ROOT</text>\n</g>\n<!-- 1 -->\n<g id=\"node3\" class=\"node\">\n<title>1</title>\n<text text-anchor=\"middle\" x=\"142\" y=\"-188.3\" font-family=\"Times,serif\" font-size=\"14.00\">1 (Я)</text>\n</g>\n<!-- 2&#45;&gt;1 -->\n<g id=\"edge2\" class=\"edge\">\n<title>2&#45;&gt;1</title>\n<path fill=\"none\" stroke=\"black\" d=\"M327.37,-265.76C306.77,-259.35 281.41,-251.15 259,-243 225.18,-230.7 215.06,-226.29 178.41,-210.1\"/>\n<polygon fill=\"black\" stroke=\"black\" points=\"179.62,-206.81 169.05,-205.97 176.79,-213.21 179.62,-206.81\"/>\n<text text-anchor=\"middle\" x=\"274\" y=\"-231.8\" font-family=\"Times,serif\" font-size=\"14.00\">nsubj</text>\n</g>\n<!-- 4 -->\n<g id=\"node4\" class=\"node\">\n<title>4</title>\n<text text-anchor=\"middle\" x=\"234\" y=\"-188.3\" font-family=\"Times,serif\" font-size=\"14.00\">4 (включила)</text>\n</g>\n<!-- 2&#45;&gt;4 -->\n<g id=\"edge3\" class=\"edge\">\n<title>2&#45;&gt;4</title>\n<path fill=\"none\" stroke=\"black\" d=\"M340.88,-260.8C320.36,-247.78 291.98,-229.78 269.63,-215.6\"/>\n<polygon fill=\"black\" stroke=\"black\" points=\"271.4,-212.58 261.08,-210.18 267.65,-218.49 271.4,-212.58\"/>\n<text text-anchor=\"middle\" x=\"322\" y=\"-231.8\" font-family=\"Times,serif\" font-size=\"14.00\">conj</text>\n</g>\n<!-- 10 -->\n<g id=\"node5\" class=\"node\">\n<title>10</title>\n<text text-anchor=\"middle\" x=\"368\" y=\"-188.3\" font-family=\"Times,serif\" font-size=\"14.00\">10 (прочитала)</text>\n</g>\n<!-- 2&#45;&gt;10 -->\n<g id=\"edge4\" class=\"edge\">\n<title>2&#45;&gt;10</title>\n<path fill=\"none\" stroke=\"black\" d=\"M368,-260.8C368,-249.16 368,-233.55 368,-220.24\"/>\n<polygon fill=\"black\" stroke=\"black\" points=\"371.5,-220.18 368,-210.18 364.5,-220.18 371.5,-220.18\"/>\n<text text-anchor=\"middle\" x=\"380\" y=\"-231.8\" font-family=\"Times,serif\" font-size=\"14.00\">conj</text>\n</g>\n<!-- 13 -->\n<g id=\"node6\" class=\"node\">\n<title>13</title>\n<text text-anchor=\"middle\" x=\"488\" y=\"-188.3\" font-family=\"Times,serif\" font-size=\"14.00\">13 (налила)</text>\n</g>\n<!-- 2&#45;&gt;13 -->\n<g id=\"edge5\" class=\"edge\">\n<title>2&#45;&gt;13</title>\n<path fill=\"none\" stroke=\"black\" d=\"M392.28,-260.8C410.5,-247.9 435.62,-230.1 455.56,-215.98\"/>\n<polygon fill=\"black\" stroke=\"black\" points=\"457.62,-218.81 463.75,-210.18 453.57,-213.1 457.62,-218.81\"/>\n<text text-anchor=\"middle\" x=\"448\" y=\"-231.8\" font-family=\"Times,serif\" font-size=\"14.00\">conj</text>\n</g>\n<!-- 15 -->\n<g id=\"node7\" class=\"node\">\n<title>15</title>\n<text text-anchor=\"middle\" x=\"575\" y=\"-188.3\" font-family=\"Times,serif\" font-size=\"14.00\">15 (.)</text>\n</g>\n<!-- 2&#45;&gt;15 -->\n<g id=\"edge6\" class=\"edge\">\n<title>2&#45;&gt;15</title>\n<path fill=\"none\" stroke=\"black\" d=\"M408.88,-263.81C426.01,-257.68 446.08,-250.25 464,-243 497.38,-229.49 505.19,-224.85 538,-210 538.2,-209.91 538.4,-209.82 538.61,-209.73\"/>\n<polygon fill=\"black\" stroke=\"black\" points=\"540.29,-212.81 547.94,-205.48 537.39,-206.44 540.29,-212.81\"/>\n<text text-anchor=\"middle\" x=\"514.5\" y=\"-231.8\" font-family=\"Times,serif\" font-size=\"14.00\">punct</text>\n</g>\n<!-- 3 -->\n<g id=\"node8\" class=\"node\">\n<title>3</title>\n<text text-anchor=\"middle\" x=\"27\" y=\"-101.3\" font-family=\"Times,serif\" font-size=\"14.00\">3 (,)</text>\n</g>\n<!-- 4&#45;&gt;3 -->\n<g id=\"edge7\" class=\"edge\">\n<title>4&#45;&gt;3</title>\n<path fill=\"none\" stroke=\"black\" d=\"M187.36,-174.95C171.3,-169.22 153.27,-162.55 137,-156 106.21,-143.6 97.11,-138.78 63.26,-123.1\"/>\n<polygon fill=\"black\" stroke=\"black\" points=\"64.64,-119.89 54.1,-118.87 61.71,-126.24 64.64,-119.89\"/>\n<text text-anchor=\"middle\" x=\"152.5\" y=\"-144.8\" font-family=\"Times,serif\" font-size=\"14.00\">punct</text>\n</g>\n<!-- 5 -->\n<g id=\"node9\" class=\"node\">\n<title>5</title>\n<text text-anchor=\"middle\" x=\"123\" y=\"-101.3\" font-family=\"Times,serif\" font-size=\"14.00\">5 (компьютер)</text>\n</g>\n<!-- 4&#45;&gt;5 -->\n<g id=\"edge8\" class=\"edge\">\n<title>4&#45;&gt;5</title>\n<path fill=\"none\" stroke=\"black\" d=\"M211.54,-173.8C194.84,-161.01 171.86,-143.42 153.5,-129.36\"/>\n<polygon fill=\"black\" stroke=\"black\" points=\"155.5,-126.48 145.43,-123.18 151.24,-132.03 155.5,-126.48\"/>\n<text text-anchor=\"middle\" x=\"195\" y=\"-144.8\" font-family=\"Times,serif\" font-size=\"14.00\">obj</text>\n</g>\n<!-- 7 -->\n<g id=\"node10\" class=\"node\">\n<title>7</title>\n<text text-anchor=\"middle\" x=\"234\" y=\"-101.3\" font-family=\"Times,serif\" font-size=\"14.00\">7 (открыла)</text>\n</g>\n<!-- 4&#45;&gt;7 -->\n<g id=\"edge9\" class=\"edge\">\n<title>4&#45;&gt;7</title>\n<path fill=\"none\" stroke=\"black\" d=\"M234,-173.8C234,-162.16 234,-146.55 234,-133.24\"/>\n<polygon fill=\"black\" stroke=\"black\" points=\"237.5,-133.18 234,-123.18 230.5,-133.18 237.5,-133.18\"/>\n<text text-anchor=\"middle\" x=\"246\" y=\"-144.8\" font-family=\"Times,serif\" font-size=\"14.00\">conj</text>\n</g>\n<!-- 9 -->\n<g id=\"node13\" class=\"node\">\n<title>9</title>\n<text text-anchor=\"middle\" x=\"322\" y=\"-101.3\" font-family=\"Times,serif\" font-size=\"14.00\">9 (,)</text>\n</g>\n<!-- 10&#45;&gt;9 -->\n<g id=\"edge12\" class=\"edge\">\n<title>10&#45;&gt;9</title>\n<path fill=\"none\" stroke=\"black\" d=\"M358.69,-173.8C352.21,-161.82 343.44,-145.62 336.1,-132.06\"/>\n<polygon fill=\"black\" stroke=\"black\" points=\"339.13,-130.3 331.29,-123.18 332.98,-133.64 339.13,-130.3\"/>\n<text text-anchor=\"middle\" x=\"363.5\" y=\"-144.8\" font-family=\"Times,serif\" font-size=\"14.00\">punct</text>\n</g>\n<!-- 11 -->\n<g id=\"node14\" class=\"node\">\n<title>11</title>\n<text text-anchor=\"middle\" x=\"410\" y=\"-101.3\" font-family=\"Times,serif\" font-size=\"14.00\">11 (письмо)</text>\n</g>\n<!-- 10&#45;&gt;11 -->\n<g id=\"edge13\" class=\"edge\">\n<title>10&#45;&gt;11</title>\n<path fill=\"none\" stroke=\"black\" d=\"M376.5,-173.8C382.36,-161.93 390.27,-145.93 396.93,-132.45\"/>\n<polygon fill=\"black\" stroke=\"black\" points=\"400.22,-133.69 401.51,-123.18 393.95,-130.59 400.22,-133.69\"/>\n<text text-anchor=\"middle\" x=\"401\" y=\"-144.8\" font-family=\"Times,serif\" font-size=\"14.00\">obj</text>\n</g>\n<!-- 12 -->\n<g id=\"node15\" class=\"node\">\n<title>12</title>\n<text text-anchor=\"middle\" x=\"498\" y=\"-101.3\" font-family=\"Times,serif\" font-size=\"14.00\">12 (,)</text>\n</g>\n<!-- 13&#45;&gt;12 -->\n<g id=\"edge14\" class=\"edge\">\n<title>13&#45;&gt;12</title>\n<path fill=\"none\" stroke=\"black\" d=\"M490.02,-173.8C491.39,-162.16 493.23,-146.55 494.8,-133.24\"/>\n<polygon fill=\"black\" stroke=\"black\" points=\"498.29,-133.52 495.98,-123.18 491.33,-132.7 498.29,-133.52\"/>\n<text text-anchor=\"middle\" x=\"509.5\" y=\"-144.8\" font-family=\"Times,serif\" font-size=\"14.00\">punct</text>\n</g>\n<!-- 14 -->\n<g id=\"node16\" class=\"node\">\n<title>14</title>\n<text text-anchor=\"middle\" x=\"575\" y=\"-101.3\" font-family=\"Times,serif\" font-size=\"14.00\">14 (чай)</text>\n</g>\n<!-- 13&#45;&gt;14 -->\n<g id=\"edge15\" class=\"edge\">\n<title>13&#45;&gt;14</title>\n<path fill=\"none\" stroke=\"black\" d=\"M509.29,-173.67C515.76,-168.17 522.8,-161.97 529,-156 537.24,-148.06 545.84,-138.96 553.34,-130.72\"/>\n<polygon fill=\"black\" stroke=\"black\" points=\"556.07,-132.92 560.15,-123.14 550.86,-128.24 556.07,-132.92\"/>\n<text text-anchor=\"middle\" x=\"553\" y=\"-144.8\" font-family=\"Times,serif\" font-size=\"14.00\">obj</text>\n</g>\n<!-- 6 -->\n<g id=\"node11\" class=\"node\">\n<title>6</title>\n<text text-anchor=\"middle\" x=\"194\" y=\"-14.3\" font-family=\"Times,serif\" font-size=\"14.00\">6 (,)</text>\n</g>\n<!-- 7&#45;&gt;6 -->\n<g id=\"edge10\" class=\"edge\">\n<title>7&#45;&gt;6</title>\n<path fill=\"none\" stroke=\"black\" d=\"M225.91,-86.8C220.32,-74.93 212.79,-58.93 206.45,-45.45\"/>\n<polygon fill=\"black\" stroke=\"black\" points=\"209.51,-43.73 202.08,-36.18 203.17,-46.71 209.51,-43.73\"/>\n<text text-anchor=\"middle\" x=\"232.5\" y=\"-57.8\" font-family=\"Times,serif\" font-size=\"14.00\">punct</text>\n</g>\n<!-- 8 -->\n<g id=\"node12\" class=\"node\">\n<title>8</title>\n<text text-anchor=\"middle\" x=\"274\" y=\"-14.3\" font-family=\"Times,serif\" font-size=\"14.00\">8 (почту)</text>\n</g>\n<!-- 7&#45;&gt;8 -->\n<g id=\"edge11\" class=\"edge\">\n<title>7&#45;&gt;8</title>\n<path fill=\"none\" stroke=\"black\" d=\"M243.18,-86.66C246.08,-81.06 249.24,-74.8 252,-69 255.61,-61.42 259.36,-53.09 262.72,-45.45\"/>\n<polygon fill=\"black\" stroke=\"black\" points=\"265.94,-46.81 266.72,-36.24 259.52,-44.02 265.94,-46.81\"/>\n<text text-anchor=\"middle\" x=\"268\" y=\"-57.8\" font-family=\"Times,serif\" font-size=\"14.00\">obj</text>\n</g>\n</g>\n</svg>\n"
          },
          "metadata": {},
          "execution_count": 176
        }
      ],
      "source": [
        "conj = 'Я пришла, включила компьютер, открыла почту, прочитала письмо, налила чай.'\n",
        "conll_conj = pipeline.process(conj)\n",
        "print(conll_conj)\n",
        "parse_to_graph(conll_conj)"
      ]
    },
    {
      "cell_type": "markdown",
      "metadata": {
        "id": "02kmOdLdVetQ"
      },
      "source": [
        "В таком случае очень много частей предложения, соединённых связью `conj` -- ей обозначаются однородные члены предложения. В таком случае можно просто посчитать количество таких связей:"
      ]
    },
    {
      "cell_type": "code",
      "execution_count": 197,
      "metadata": {
        "id": "A8nt7YWNVetQ",
        "colab": {
          "base_uri": "https://localhost:8080/",
          "height": 35
        },
        "outputId": "944787e0-ad52-4e07-9229-00a528730673"
      },
      "outputs": [
        {
          "output_type": "execute_result",
          "data": {
            "text/plain": [
              "'кол-во однородных членов: 4'"
            ],
            "application/vnd.google.colaboratory.intrinsic+json": {
              "type": "string"
            }
          },
          "metadata": {},
          "execution_count": 197
        }
      ],
      "source": [
        "def count_conj(sentence):\n",
        "    # your code here\n",
        "    conll_sem = pipeline.process(sentence)\n",
        "    conll_sem = [i.split('\\t') for i in conll_sem.split('\\n') if not i.startswith('#') and i]\n",
        "    conj_count = len([i for i in conll_sem if i[7] == 'conj'])\n",
        "    return conj_count\n",
        "    \n",
        "f'кол-во однородных членов: {count_conj(conj)}'"
      ]
    },
    {
      "cell_type": "markdown",
      "metadata": {
        "id": "pwPbU-0OVetQ"
      },
      "source": [
        "Ещё одна проблема, на которую обращают внимание в Главреде -- [парцелляция](http://maximilyahov.ru/blog/all/parcel/). Часто она делает предложения менее читаемыми.\n",
        "\n",
        "По словам Главреда,\n",
        "> Признак парцелляции — предложение синтаксически неполное и само по себе не имеет смысла.\n",
        "\n",
        "Например, в предложении нет субъекта:"
      ]
    },
    {
      "cell_type": "code",
      "execution_count": 179,
      "metadata": {
        "id": "VwJtdJ50VetR",
        "outputId": "3e44f054-1e56-423f-c0a2-c22d8253976d",
        "colab": {
          "base_uri": "https://localhost:8080/",
          "height": 652
        }
      },
      "outputs": [
        {
          "output_type": "stream",
          "name": "stdout",
          "text": [
            "# newdoc\n",
            "# newpar\n",
            "# sent_id = 1\n",
            "# text = Выключил компьютер и заснул.\n",
            "1\tВыключил\tВыключил\tVERB\tVBC\tAspect=Perf|Gender=Masc|Mood=Ind|Number=Sing|Tense=Past|VerbForm=Fin\t0\troot\t_\t_\n",
            "2\tкомпьютер\tкомпьютер\tNOUN\tNN\tAnimacy=Inan|Case=Acc|Gender=Masc|Number=Sing\t1\tobj\t_\t_\n",
            "3\tи\tИ\tCCONJ\tCC\t_\t4\tcc\t_\t_\n",
            "4\tзаснул\tзаснУЛ\tVERB\tVBC\tAspect=Perf|Gender=Masc|Mood=Ind|Number=Sing|Tense=Past|VerbForm=Fin\t1\tconj\t_\tSpaceAfter=No\n",
            "5\t.\t.\tPUNCT\t.\t_\t1\tpunct\t_\tSpacesAfter=\\n\n",
            "\n",
            "\n",
            "['1\\tВыключил\\tВыключил\\tVERB\\tVBC\\tAspect=Perf|Gender=Masc|Mood=Ind|Number=Sing|Tense=Past|VerbForm=Fin\\t0\\tROOT\\t_\\t_', '2\\tкомпьютер\\tкомпьютер\\tNOUN\\tNN\\tAnimacy=Inan|Case=Acc|Gender=Masc|Number=Sing\\t1\\tobj\\t_\\t_', '3\\tи\\tИ\\tCCONJ\\tCC\\t_\\t4\\tcc\\t_\\t_', '4\\tзаснул\\tзаснУЛ\\tVERB\\tVBC\\tAspect=Perf|Gender=Masc|Mood=Ind|Number=Sing|Tense=Past|VerbForm=Fin\\t1\\tconj\\t_\\tSpaceAfter=No', '5\\t.\\t.\\tPUNCT\\t.\\t_\\t1\\tpunct\\t_\\tSpacesAfter=\\\\n']\n"
          ]
        },
        {
          "output_type": "execute_result",
          "data": {
            "text/plain": [
              "<DependencyGraph with 6 nodes>"
            ],
            "image/svg+xml": "<?xml version=\"1.0\" encoding=\"UTF-8\" standalone=\"no\"?>\n<!DOCTYPE svg PUBLIC \"-//W3C//DTD SVG 1.1//EN\"\n \"http://www.w3.org/Graphics/SVG/1.1/DTD/svg11.dtd\">\n<!-- Generated by graphviz version 2.43.0 (0)\n -->\n<!-- Title: G Pages: 1 -->\n<svg width=\"274pt\" height=\"305pt\"\n viewBox=\"0.00 0.00 273.50 305.00\" xmlns=\"http://www.w3.org/2000/svg\" xmlns:xlink=\"http://www.w3.org/1999/xlink\">\n<g id=\"graph0\" class=\"graph\" transform=\"scale(1 1) rotate(0) translate(4 301)\">\n<title>G</title>\n<polygon fill=\"white\" stroke=\"transparent\" points=\"-4,4 -4,-301 269.5,-301 269.5,4 -4,4\"/>\n<!-- 0 -->\n<g id=\"node1\" class=\"node\">\n<title>0</title>\n<text text-anchor=\"middle\" x=\"156.5\" y=\"-275.3\" font-family=\"Times,serif\" font-size=\"14.00\">0 (None)</text>\n</g>\n<!-- 1 -->\n<g id=\"node2\" class=\"node\">\n<title>1</title>\n<text text-anchor=\"middle\" x=\"156.5\" y=\"-188.3\" font-family=\"Times,serif\" font-size=\"14.00\">1 (Выключил)</text>\n</g>\n<!-- 0&#45;&gt;1 -->\n<g id=\"edge1\" class=\"edge\">\n<title>0&#45;&gt;1</title>\n<path fill=\"none\" stroke=\"black\" d=\"M156.5,-260.8C156.5,-249.16 156.5,-233.55 156.5,-220.24\"/>\n<polygon fill=\"black\" stroke=\"black\" points=\"160,-220.18 156.5,-210.18 153,-220.18 160,-220.18\"/>\n<text text-anchor=\"middle\" x=\"175\" y=\"-231.8\" font-family=\"Times,serif\" font-size=\"14.00\">ROOT</text>\n</g>\n<!-- 2 -->\n<g id=\"node3\" class=\"node\">\n<title>2</title>\n<text text-anchor=\"middle\" x=\"50.5\" y=\"-101.3\" font-family=\"Times,serif\" font-size=\"14.00\">2 (компьютер)</text>\n</g>\n<!-- 1&#45;&gt;2 -->\n<g id=\"edge2\" class=\"edge\">\n<title>1&#45;&gt;2</title>\n<path fill=\"none\" stroke=\"black\" d=\"M135.05,-173.8C119.24,-161.13 97.56,-143.73 80.1,-129.74\"/>\n<polygon fill=\"black\" stroke=\"black\" points=\"81.91,-126.7 71.92,-123.18 77.53,-132.16 81.91,-126.7\"/>\n<text text-anchor=\"middle\" x=\"119.5\" y=\"-144.8\" font-family=\"Times,serif\" font-size=\"14.00\">obj</text>\n</g>\n<!-- 4 -->\n<g id=\"node4\" class=\"node\">\n<title>4</title>\n<text text-anchor=\"middle\" x=\"156.5\" y=\"-101.3\" font-family=\"Times,serif\" font-size=\"14.00\">4 (заснул)</text>\n</g>\n<!-- 1&#45;&gt;4 -->\n<g id=\"edge3\" class=\"edge\">\n<title>1&#45;&gt;4</title>\n<path fill=\"none\" stroke=\"black\" d=\"M156.5,-173.8C156.5,-162.16 156.5,-146.55 156.5,-133.24\"/>\n<polygon fill=\"black\" stroke=\"black\" points=\"160,-133.18 156.5,-123.18 153,-133.18 160,-133.18\"/>\n<text text-anchor=\"middle\" x=\"168.5\" y=\"-144.8\" font-family=\"Times,serif\" font-size=\"14.00\">conj</text>\n</g>\n<!-- 5 -->\n<g id=\"node5\" class=\"node\">\n<title>5</title>\n<text text-anchor=\"middle\" x=\"238.5\" y=\"-101.3\" font-family=\"Times,serif\" font-size=\"14.00\">5 (.)</text>\n</g>\n<!-- 1&#45;&gt;5 -->\n<g id=\"edge4\" class=\"edge\">\n<title>1&#45;&gt;5</title>\n<path fill=\"none\" stroke=\"black\" d=\"M173.09,-173.8C185.1,-161.36 201.49,-144.36 214.86,-130.5\"/>\n<polygon fill=\"black\" stroke=\"black\" points=\"217.51,-132.8 221.93,-123.18 212.47,-127.94 217.51,-132.8\"/>\n<text text-anchor=\"middle\" x=\"218\" y=\"-144.8\" font-family=\"Times,serif\" font-size=\"14.00\">punct</text>\n</g>\n<!-- 3 -->\n<g id=\"node6\" class=\"node\">\n<title>3</title>\n<text text-anchor=\"middle\" x=\"156.5\" y=\"-14.3\" font-family=\"Times,serif\" font-size=\"14.00\">3 (и)</text>\n</g>\n<!-- 4&#45;&gt;3 -->\n<g id=\"edge5\" class=\"edge\">\n<title>4&#45;&gt;3</title>\n<path fill=\"none\" stroke=\"black\" d=\"M156.5,-86.8C156.5,-75.16 156.5,-59.55 156.5,-46.24\"/>\n<polygon fill=\"black\" stroke=\"black\" points=\"160,-46.18 156.5,-36.18 153,-46.18 160,-46.18\"/>\n<text text-anchor=\"middle\" x=\"163\" y=\"-57.8\" font-family=\"Times,serif\" font-size=\"14.00\">cc</text>\n</g>\n</g>\n</svg>\n"
          },
          "metadata": {},
          "execution_count": 179
        }
      ],
      "source": [
        "ex = 'Выключил компьютер и заснул.'\n",
        "conll_ex = pipeline.process(ex)\n",
        "print(conll_ex)\n",
        "parse_to_graph(conll_ex)"
      ]
    },
    {
      "cell_type": "markdown",
      "metadata": {
        "id": "yyaD-QFyVetR"
      },
      "source": [
        "Или вообще что-то странное:"
      ]
    },
    {
      "cell_type": "code",
      "execution_count": 180,
      "metadata": {
        "id": "FXrNpZ9bVetR",
        "outputId": "09b3cb47-c247-4f9c-b1f1-a82790b56173",
        "colab": {
          "base_uri": "https://localhost:8080/",
          "height": 853
        }
      },
      "outputs": [
        {
          "output_type": "stream",
          "name": "stdout",
          "text": [
            "# newdoc\n",
            "# newpar\n",
            "# sent_id = 1\n",
            "# text = А броско, шикарно и выделяля бы вас из толпы\n",
            "1\tА\tА\tCCONJ\tCC\t_\t2\tcc:preconj\t_\t_\n",
            "2\tброско\tброско\tNOUN\tNN\tAnimacy=Inan|Case=Acc|Gender=Neut|Number=Sing\t0\troot\t_\tSpaceAfter=No\n",
            "3\t,\t,\tPUNCT\t,\t_\t4\tpunct\t_\t_\n",
            "4\tшикарно\tшикаРНО\tADV\tRB\t_\t2\tconj\t_\t_\n",
            "5\tи\tИ\tCCONJ\tCC\t_\t6\tcc\t_\t_\n",
            "6\tвыделяля\tвыделяля\tADP\tIN\t_\t8\tcase\t_\t_\n",
            "7\tбы\tБЫ\tPART\tRP\t_\t8\tdiscourse\t_\t_\n",
            "8\tвас\tВЫ\tPRON\tPRP\tCase=Acc|Number=Plur|Person=2\t2\tnmod\t_\t_\n",
            "9\tиз\tИЗ\tADP\tIN\t_\t10\tcase\t_\t_\n",
            "10\tтолпы\tтолпы\tNOUN\tNN\tAnimacy=Inan|Case=Gen|Gender=Fem|Number=Sing\t2\tnmod\t_\tSpacesAfter=\\n\n",
            "\n",
            "\n",
            "['1\\tА\\tА\\tCCONJ\\tCC\\t_\\t2\\tcc:preconj\\t_\\t_', '2\\tброско\\tброско\\tNOUN\\tNN\\tAnimacy=Inan|Case=Acc|Gender=Neut|Number=Sing\\t0\\tROOT\\t_\\tSpaceAfter=No', '3\\t,\\t,\\tPUNCT\\t,\\t_\\t4\\tpunct\\t_\\t_', '4\\tшикарно\\tшикаРНО\\tADV\\tRB\\t_\\t2\\tconj\\t_\\t_', '5\\tи\\tИ\\tCCONJ\\tCC\\t_\\t6\\tcc\\t_\\t_', '6\\tвыделяля\\tвыделяля\\tADP\\tIN\\t_\\t8\\tcase\\t_\\t_', '7\\tбы\\tБЫ\\tPART\\tRP\\t_\\t8\\tdiscourse\\t_\\t_', '8\\tвас\\tВЫ\\tPRON\\tPRP\\tCase=Acc|Number=Plur|Person=2\\t2\\tnmod\\t_\\t_', '9\\tиз\\tИЗ\\tADP\\tIN\\t_\\t10\\tcase\\t_\\t_', '10\\tтолпы\\tтолпы\\tNOUN\\tNN\\tAnimacy=Inan|Case=Gen|Gender=Fem|Number=Sing\\t2\\tnmod\\t_\\tSpacesAfter=\\\\n']\n"
          ]
        },
        {
          "output_type": "execute_result",
          "data": {
            "text/plain": [
              "<DependencyGraph with 11 nodes>"
            ],
            "image/svg+xml": "<?xml version=\"1.0\" encoding=\"UTF-8\" standalone=\"no\"?>\n<!DOCTYPE svg PUBLIC \"-//W3C//DTD SVG 1.1//EN\"\n \"http://www.w3.org/Graphics/SVG/1.1/DTD/svg11.dtd\">\n<!-- Generated by graphviz version 2.43.0 (0)\n -->\n<!-- Title: G Pages: 1 -->\n<svg width=\"360pt\" height=\"392pt\"\n viewBox=\"0.00 0.00 360.00 392.00\" xmlns=\"http://www.w3.org/2000/svg\" xmlns:xlink=\"http://www.w3.org/1999/xlink\">\n<g id=\"graph0\" class=\"graph\" transform=\"scale(1 1) rotate(0) translate(4 388)\">\n<title>G</title>\n<polygon fill=\"white\" stroke=\"transparent\" points=\"-4,4 -4,-388 356,-388 356,4 -4,4\"/>\n<!-- 0 -->\n<g id=\"node1\" class=\"node\">\n<title>0</title>\n<text text-anchor=\"middle\" x=\"150\" y=\"-362.3\" font-family=\"Times,serif\" font-size=\"14.00\">0 (None)</text>\n</g>\n<!-- 2 -->\n<g id=\"node2\" class=\"node\">\n<title>2</title>\n<text text-anchor=\"middle\" x=\"150\" y=\"-275.3\" font-family=\"Times,serif\" font-size=\"14.00\">2 (броско)</text>\n</g>\n<!-- 0&#45;&gt;2 -->\n<g id=\"edge1\" class=\"edge\">\n<title>0&#45;&gt;2</title>\n<path fill=\"none\" stroke=\"black\" d=\"M150,-347.8C150,-336.16 150,-320.55 150,-307.24\"/>\n<polygon fill=\"black\" stroke=\"black\" points=\"153.5,-307.18 150,-297.18 146.5,-307.18 153.5,-307.18\"/>\n<text text-anchor=\"middle\" x=\"168.5\" y=\"-318.8\" font-family=\"Times,serif\" font-size=\"14.00\">ROOT</text>\n</g>\n<!-- 1 -->\n<g id=\"node3\" class=\"node\">\n<title>1</title>\n<text text-anchor=\"middle\" x=\"27\" y=\"-188.3\" font-family=\"Times,serif\" font-size=\"14.00\">1 (А)</text>\n</g>\n<!-- 2&#45;&gt;1 -->\n<g id=\"edge2\" class=\"edge\">\n<title>2&#45;&gt;1</title>\n<path fill=\"none\" stroke=\"black\" d=\"M111.89,-265.38C97.96,-259.76 82.56,-252.28 70,-243 60.65,-236.09 51.95,-226.79 44.86,-218.09\"/>\n<polygon fill=\"black\" stroke=\"black\" points=\"47.49,-215.77 38.58,-210.03 41.96,-220.07 47.49,-215.77\"/>\n<text text-anchor=\"middle\" x=\"98.5\" y=\"-231.8\" font-family=\"Times,serif\" font-size=\"14.00\">cc:preconj</text>\n</g>\n<!-- 4 -->\n<g id=\"node4\" class=\"node\">\n<title>4</title>\n<text text-anchor=\"middle\" x=\"116\" y=\"-188.3\" font-family=\"Times,serif\" font-size=\"14.00\">4 (шикарно)</text>\n</g>\n<!-- 2&#45;&gt;4 -->\n<g id=\"edge3\" class=\"edge\">\n<title>2&#45;&gt;4</title>\n<path fill=\"none\" stroke=\"black\" d=\"M143.12,-260.8C138.42,-249.05 132.1,-233.24 126.74,-219.84\"/>\n<polygon fill=\"black\" stroke=\"black\" points=\"129.83,-218.16 122.87,-210.18 123.33,-220.76 129.83,-218.16\"/>\n<text text-anchor=\"middle\" x=\"148\" y=\"-231.8\" font-family=\"Times,serif\" font-size=\"14.00\">conj</text>\n</g>\n<!-- 8 -->\n<g id=\"node5\" class=\"node\">\n<title>8</title>\n<text text-anchor=\"middle\" x=\"206\" y=\"-188.3\" font-family=\"Times,serif\" font-size=\"14.00\">8 (вас)</text>\n</g>\n<!-- 2&#45;&gt;8 -->\n<g id=\"edge4\" class=\"edge\">\n<title>2&#45;&gt;8</title>\n<path fill=\"none\" stroke=\"black\" d=\"M161.33,-260.8C169.3,-248.7 180.11,-232.3 189.09,-218.67\"/>\n<polygon fill=\"black\" stroke=\"black\" points=\"192.11,-220.45 194.68,-210.18 186.26,-216.6 192.11,-220.45\"/>\n<text text-anchor=\"middle\" x=\"198\" y=\"-231.8\" font-family=\"Times,serif\" font-size=\"14.00\">nmod</text>\n</g>\n<!-- 10 -->\n<g id=\"node6\" class=\"node\">\n<title>10</title>\n<text text-anchor=\"middle\" x=\"312\" y=\"-188.3\" font-family=\"Times,serif\" font-size=\"14.00\">10 (толпы)</text>\n</g>\n<!-- 2&#45;&gt;10 -->\n<g id=\"edge5\" class=\"edge\">\n<title>2&#45;&gt;10</title>\n<path fill=\"none\" stroke=\"black\" d=\"M183.25,-261C194.32,-255.31 206.71,-248.91 218,-243 235.55,-233.82 254.88,-223.56 271.42,-214.74\"/>\n<polygon fill=\"black\" stroke=\"black\" points=\"273.12,-217.8 280.29,-210 269.82,-211.62 273.12,-217.8\"/>\n<text text-anchor=\"middle\" x=\"260\" y=\"-231.8\" font-family=\"Times,serif\" font-size=\"14.00\">nmod</text>\n</g>\n<!-- 3 -->\n<g id=\"node7\" class=\"node\">\n<title>3</title>\n<text text-anchor=\"middle\" x=\"67\" y=\"-101.3\" font-family=\"Times,serif\" font-size=\"14.00\">3 (,)</text>\n</g>\n<!-- 4&#45;&gt;3 -->\n<g id=\"edge6\" class=\"edge\">\n<title>4&#45;&gt;3</title>\n<path fill=\"none\" stroke=\"black\" d=\"M106.08,-173.8C99.18,-161.82 89.84,-145.62 82.02,-132.06\"/>\n<polygon fill=\"black\" stroke=\"black\" points=\"84.93,-130.09 76.9,-123.18 78.86,-133.59 84.93,-130.09\"/>\n<text text-anchor=\"middle\" x=\"110.5\" y=\"-144.8\" font-family=\"Times,serif\" font-size=\"14.00\">punct</text>\n</g>\n<!-- 6 -->\n<g id=\"node9\" class=\"node\">\n<title>6</title>\n<text text-anchor=\"middle\" x=\"158\" y=\"-101.3\" font-family=\"Times,serif\" font-size=\"14.00\">6 (выделяля)</text>\n</g>\n<!-- 8&#45;&gt;6 -->\n<g id=\"edge8\" class=\"edge\">\n<title>8&#45;&gt;6</title>\n<path fill=\"none\" stroke=\"black\" d=\"M196.29,-173.8C189.52,-161.82 180.37,-145.62 172.71,-132.06\"/>\n<polygon fill=\"black\" stroke=\"black\" points=\"175.66,-130.16 167.7,-123.18 169.57,-133.6 175.66,-130.16\"/>\n<text text-anchor=\"middle\" x=\"197\" y=\"-144.8\" font-family=\"Times,serif\" font-size=\"14.00\">case</text>\n</g>\n<!-- 7 -->\n<g id=\"node10\" class=\"node\">\n<title>7</title>\n<text text-anchor=\"middle\" x=\"249\" y=\"-101.3\" font-family=\"Times,serif\" font-size=\"14.00\">7 (бы)</text>\n</g>\n<!-- 8&#45;&gt;7 -->\n<g id=\"edge9\" class=\"edge\">\n<title>8&#45;&gt;7</title>\n<path fill=\"none\" stroke=\"black\" d=\"M214.7,-173.8C220.7,-161.93 228.8,-145.93 235.62,-132.45\"/>\n<polygon fill=\"black\" stroke=\"black\" points=\"238.92,-133.68 240.31,-123.18 232.67,-130.52 238.92,-133.68\"/>\n<text text-anchor=\"middle\" x=\"257\" y=\"-144.8\" font-family=\"Times,serif\" font-size=\"14.00\">discourse</text>\n</g>\n<!-- 9 -->\n<g id=\"node11\" class=\"node\">\n<title>9</title>\n<text text-anchor=\"middle\" x=\"322\" y=\"-101.3\" font-family=\"Times,serif\" font-size=\"14.00\">9 (из)</text>\n</g>\n<!-- 10&#45;&gt;9 -->\n<g id=\"edge10\" class=\"edge\">\n<title>10&#45;&gt;9</title>\n<path fill=\"none\" stroke=\"black\" d=\"M314.02,-173.8C315.39,-162.16 317.23,-146.55 318.8,-133.24\"/>\n<polygon fill=\"black\" stroke=\"black\" points=\"322.29,-133.52 319.98,-123.18 315.33,-132.7 322.29,-133.52\"/>\n<text text-anchor=\"middle\" x=\"330\" y=\"-144.8\" font-family=\"Times,serif\" font-size=\"14.00\">case</text>\n</g>\n<!-- 5 -->\n<g id=\"node8\" class=\"node\">\n<title>5</title>\n<text text-anchor=\"middle\" x=\"158\" y=\"-14.3\" font-family=\"Times,serif\" font-size=\"14.00\">5 (и)</text>\n</g>\n<!-- 6&#45;&gt;5 -->\n<g id=\"edge7\" class=\"edge\">\n<title>6&#45;&gt;5</title>\n<path fill=\"none\" stroke=\"black\" d=\"M158,-86.8C158,-75.16 158,-59.55 158,-46.24\"/>\n<polygon fill=\"black\" stroke=\"black\" points=\"161.5,-46.18 158,-36.18 154.5,-46.18 161.5,-46.18\"/>\n<text text-anchor=\"middle\" x=\"164.5\" y=\"-57.8\" font-family=\"Times,serif\" font-size=\"14.00\">cc</text>\n</g>\n</g>\n</svg>\n"
          },
          "metadata": {},
          "execution_count": 180
        }
      ],
      "source": [
        "ex = 'А броско, шикарно и выделяля бы вас из толпы'\n",
        "conll_ex = pipeline.process(ex)\n",
        "print(conll_ex)\n",
        "parse_to_graph(conll_ex)"
      ]
    },
    {
      "cell_type": "markdown",
      "metadata": {
        "id": "eVZFXOSqVetS"
      },
      "source": [
        "Напишите функцию, которая помогает обнаруживать парцелляцию, опираясь на то, что предложение неполное:"
      ]
    },
    {
      "cell_type": "code",
      "source": [
        "import pandas as pd\n",
        "def parse_to_dataframe(sentence):\n",
        "    conll_sent = pipeline.process(sentence)\n",
        "    return pd.DataFrame([i.split('\\t') for i in conll_sent.split('\\n') if not i.startswith('#') and i])"
      ],
      "metadata": {
        "id": "jtFr0lvPDn0i"
      },
      "execution_count": 164,
      "outputs": []
    },
    {
      "cell_type": "code",
      "source": [
        "def is_parcelling(sentence):\n",
        "    conll_sent = pipeline.process(sentence)\n",
        "    lines = [i.split('\\t') for i in conll_sent.split('\\n') if not i.startswith('#') and i]\n",
        "    root_number = [i for i in lines if i[7]=='root'][0][0]\n",
        "    root_deps = [i[7] for i in lines if i[6]==root_number]\n",
        "    for i in lines:\n",
        "        if (i[7]=='root' and i[3]!='VERB') or \\\n",
        "           ('nsubj' not in root_deps):\n",
        "          return True\n",
        "    return False"
      ],
      "metadata": {
        "id": "qgM2X2NzQyV6"
      },
      "execution_count": 181,
      "outputs": []
    },
    {
      "cell_type": "code",
      "source": [
        "is_parcelling('Я пришла, включила компьютер, открыла почту, прочитала письмо, налила чай.')"
      ],
      "metadata": {
        "colab": {
          "base_uri": "https://localhost:8080/"
        },
        "id": "Km_ogSBgRwWl",
        "outputId": "cc0493ef-675c-46f0-c8cc-3d4865c2e0f6"
      },
      "execution_count": 182,
      "outputs": [
        {
          "output_type": "execute_result",
          "data": {
            "text/plain": [
              "False"
            ]
          },
          "metadata": {},
          "execution_count": 182
        }
      ]
    },
    {
      "cell_type": "code",
      "source": [
        "is_parcelling('Выключил компьютер и заснул.')"
      ],
      "metadata": {
        "colab": {
          "base_uri": "https://localhost:8080/"
        },
        "id": "Vscq9bOYSEhg",
        "outputId": "7758cb4b-1be1-43f9-c351-e5713e35040e"
      },
      "execution_count": 183,
      "outputs": [
        {
          "output_type": "execute_result",
          "data": {
            "text/plain": [
              "True"
            ]
          },
          "metadata": {},
          "execution_count": 183
        }
      ]
    },
    {
      "cell_type": "code",
      "source": [
        "is_parcelling('А броско, шикарно и выделяля бы вас из толпы')"
      ],
      "metadata": {
        "colab": {
          "base_uri": "https://localhost:8080/"
        },
        "id": "_NtnVKDiSInd",
        "outputId": "febaac2a-ab1a-48f9-c47a-38e35e2cdf3e"
      },
      "execution_count": 184,
      "outputs": [
        {
          "output_type": "execute_result",
          "data": {
            "text/plain": [
              "True"
            ]
          },
          "metadata": {},
          "execution_count": 184
        }
      ]
    },
    {
      "cell_type": "markdown",
      "metadata": {
        "id": "Px_cr5dJVetS"
      },
      "source": [
        "А теперь давайте усложним критерий на однородные члены: проверим, не состоит ли предложение из большого числа однородных предложений. Для этого проверим, являются ли однородные члены глаголами."
      ]
    },
    {
      "cell_type": "code",
      "execution_count": 192,
      "metadata": {
        "id": "1b3ccZ3jVetT",
        "colab": {
          "base_uri": "https://localhost:8080/"
        },
        "outputId": "6181dbba-4bd4-4448-8df4-803d40ebaa71"
      },
      "outputs": [
        {
          "output_type": "stream",
          "name": "stdout",
          "text": [
            "кол-во однородных членов: 5\n"
          ]
        }
      ],
      "source": [
        "def count_conj_verb(sentence):\n",
        "    # your code here\n",
        "    conll_sem = pipeline.process(sentence)\n",
        "    conll_sem = [i.split('\\t') for i in conll_sem.split('\\n') if not i.startswith('#') and i]\n",
        "    conj_verb_count = len([i for i in conll_sem if (i[3]=='VERB') and ((i[7] == 'conj') or (i[7]=='root'))])\n",
        "    print(f'кол-во однородных членов: {conj_verb_count}')\n",
        "    \n",
        "count_conj_verb(conj)"
      ]
    },
    {
      "cell_type": "markdown",
      "metadata": {
        "id": "55JTq7HXVetT"
      },
      "source": [
        "Придумайте метрику для оценки качества предложений на основе написаных функций. Напишите функцию-оцениватель. Пусть она принимает на вход предложение, а возвращает оценку от 1 до 10."
      ]
    },
    {
      "cell_type": "code",
      "execution_count": 204,
      "metadata": {
        "id": "kCep1GqGVetT",
        "colab": {
          "base_uri": "https://localhost:8080/"
        },
        "outputId": "3e26b95b-9790-4989-e640-1e1ef149227c"
      },
      "outputs": [
        {
          "output_type": "stream",
          "name": "stdout",
          "text": [
            "sentence: Я пришла, включила компьютер, открыла почту, прочитала письмо, налила чай.\n",
            "my score: 8\n",
            "\n",
            "sentence: А броско, шикарно и выделяля бы вас из толпы\n",
            "my score: 5\n",
            "\n"
          ]
        }
      ],
      "source": [
        "def get_score(sentence):\n",
        "    # your code here\n",
        "    parc_score = 1\n",
        "    if is_parcelling(sentence):\n",
        "      parc_score = 0\n",
        "    conj_count = count_conj(sentence)\n",
        "    conj_score = 1\n",
        "    if conj_count > 7:\n",
        "      conj_score = 0\n",
        "    elif conj_count > 5:\n",
        "      conj_score = 0.3\n",
        "    elif conj_count > 4:\n",
        "      conj_score = 0.4\n",
        "    elif conj_count > 3:\n",
        "      conj_score = 0.7\n",
        "    elif conj_count > 2:\n",
        "      conj_score = 0.85\n",
        "    return max(1, 5*parc_score + int(5*conj_score) )\n",
        "\n",
        "print('sentence:', conj)\n",
        "print('my score:', get_score(conj))\n",
        "print()\n",
        "\n",
        "print('sentence:', ex)\n",
        "print('my score:', get_score(ex))\n",
        "print()"
      ]
    },
    {
      "cell_type": "markdown",
      "metadata": {
        "id": "OVahIaCGVetT"
      },
      "source": [
        "Если осталось время, придумайте и напишите свою функцию, которая помогала бы оценивать качество текста. Добавьте её в метрику."
      ]
    },
    {
      "cell_type": "code",
      "execution_count": 208,
      "metadata": {
        "id": "AvhASpZCVetT",
        "colab": {
          "base_uri": "https://localhost:8080/"
        },
        "outputId": "54cff45c-f94e-4d61-ac32-7c5fab18518e"
      },
      "outputs": [
        {
          "output_type": "execute_result",
          "data": {
            "text/plain": [
              "3.6666666666666665"
            ]
          },
          "metadata": {},
          "execution_count": 208
        }
      ],
      "source": [
        "import numpy as np\n",
        "def text_score(text):\n",
        "  lines = text.split('\\n')\n",
        "  score_list = [get_score(i) for i in lines]\n",
        "  return np.mean(score_list)\n",
        "\n",
        "text_score('Мотоци́кл (фр. motocycle, от лат. mōtor — приводящий в движение и греч. κύκλος — круг, колесо) — как правило, двухколёсное (реже — трёхколёсное) транспортное средство с двигателем (внутреннего сгорания, электрическим, пневматическим), главными отличительными чертами которого являются вертикальная посадка водителя (мотоциклиста), наличие боковых ножных упоров (площадок, подножек) и прямое (безредукторное) управление передним поворотным колесом[1].\\n Самый первый мотоцикл был придуман инженером Готтлибом Даймлером в 1885 и назывался он Daimler Reitwagen. \\n Классические мотоциклы включают в себя двухколёсные, двухколёсные с боковой коляской, и трёхколёсные; в начале XXI века стали набирать популярность квадроциклы. Мотоциклы также подразделяются по своей конструкции и размерам: мопеды, мокики (имеют небольшой размер двигателя, как правило до 50 см³) мотороллеры или скутеры (закрытый пластиком двигатель, расположенный под сиденьем водителя и площадки для ног), и собственно мотоциклы различных типов: классические, крузеры, туреры, спортивные, шоссейные, кроссовые, эндуро, чопперы.')"
      ]
    },
    {
      "cell_type": "markdown",
      "metadata": {
        "id": "R3c8VHVNVetU"
      },
      "source": [
        "## SVO-triples\n",
        "\n",
        "С помощью синтекстического парсинга можно извлекать из предложений тройки субъект-объект-глагол, которые можно использовать для извлечения информации из текста.  "
      ]
    },
    {
      "cell_type": "code",
      "execution_count": 221,
      "metadata": {
        "id": "eCX6u0PeVetU"
      },
      "outputs": [],
      "source": [
        "sent = \"\"\"1\tСобянин\t_\tNOUN\t_\tAnimacy=Anim|Case=Nom|Gender=Masc|Number=Sing|fPOS=NOUN++\t2\tnsubj\t_\t_\n",
        "2\tоткрыл\t_\tVERB\t_\tAspect=Perf|Gender=Masc|Mood=Ind|Number=Sing|Tense=Past|VerbForm=Fin|Voice=Act|fPOS=VERB++\t0\tROOT\t_\t_\n",
        "3\tновый\t_\tADJ\t_\tAnimacy=Inan|Case=Acc|Degree=Pos|Gender=Masc|Number=Sing|fPOS=ADJ++\t4\tamod\t_\t_\n",
        "4\tпарк\t_\tNOUN\t_\tAnimacy=Inan|Case=Acc|Gender=Masc|Number=Sing|fPOS=NOUN++\t2\tdobj\t_\t_\n",
        "5\tи\t_\tCONJ\t_\tfPOS=CONJ++\t4\tcc\t_\t_\n",
        "6\tдетскую\t_\tADJ\t_\tCase=Acc|Degree=Pos|Gender=Fem|Number=Sing|fPOS=ADJ++\t7\tamod\t_\t_\n",
        "7\tплощадку\t_\tNOUN\t_\tAnimacy=Inan|Case=Acc|Gender=Fem|Number=Sing|fPOS=NOUN++\t4\tconj\t_\t_\n",
        "8\t.\t_\tPUNCT\t.\tfPOS=PUNCT++.\t2\tpunct\t_\t_\"\"\""
      ]
    },
    {
      "cell_type": "markdown",
      "metadata": {
        "id": "6dp2YWZLVetU"
      },
      "source": [
        "Тройки слово-слово-связь:"
      ]
    },
    {
      "cell_type": "code",
      "execution_count": 222,
      "metadata": {
        "id": "htD3wPYVVetU",
        "outputId": "043ed894-1ed8-45aa-a80f-1b8418189341",
        "colab": {
          "base_uri": "https://localhost:8080/"
        }
      },
      "outputs": [
        {
          "output_type": "execute_result",
          "data": {
            "text/plain": [
              "[(('открыл', 'VERB'), 'nsubj', ('Собянин', 'NOUN')),\n",
              " (('открыл', 'VERB'), 'dobj', ('парк', 'NOUN')),\n",
              " (('парк', 'NOUN'), 'amod', ('новый', 'ADJ')),\n",
              " (('парк', 'NOUN'), 'cc', ('и', 'CONJ')),\n",
              " (('парк', 'NOUN'), 'conj', ('площадку', 'NOUN')),\n",
              " (('площадку', 'NOUN'), 'amod', ('детскую', 'ADJ')),\n",
              " (('открыл', 'VERB'), 'punct', ('.', 'PUNCT'))]"
            ]
          },
          "metadata": {},
          "execution_count": 222
        }
      ],
      "source": [
        "graph = DependencyGraph(tree_str=sent)\n",
        "list(graph.triples())"
      ]
    },
    {
      "cell_type": "markdown",
      "metadata": {
        "id": "4vQAY1bzVetV"
      },
      "source": [
        "Тройки субьект-объект-глагол:"
      ]
    },
    {
      "cell_type": "code",
      "execution_count": 224,
      "metadata": {
        "id": "IoteXpqrVetV",
        "outputId": "e5cca845-cfc4-4e40-ad0d-665087568d4b",
        "colab": {
          "base_uri": "https://localhost:8080/"
        }
      },
      "outputs": [
        {
          "output_type": "stream",
          "name": "stdout",
          "text": [
            "{'открыл': {'subj': 'Собянин', 'obj': 'парк'}}\n"
          ]
        }
      ],
      "source": [
        "def get_sov(sent):\n",
        "    graph = DependencyGraph(tree_str=sent)\n",
        "    sov = {}\n",
        "    for triple in graph.triples():\n",
        "        if triple:\n",
        "            if triple[0][1] == 'VERB':\n",
        "                sov[triple[0][0]] = {'subj':'','obj':''}\n",
        "    for triple in graph.triples():\n",
        "        if triple:\n",
        "            if triple[1] == 'nsubj':\n",
        "                if triple[0][1] == 'VERB':\n",
        "                    sov[triple[0][0]]['subj']  = triple[2][0]\n",
        "            if triple[1] == 'dobj':\n",
        "                if triple[0][1] == 'VERB':\n",
        "                    sov[triple[0][0]]['obj'] = triple[2][0]\n",
        "    return sov\n",
        "\n",
        "sov = get_sov(sent)\n",
        "print(sov)"
      ]
    },
    {
      "cell_type": "markdown",
      "metadata": {
        "id": "0JwwI9zSVetV"
      },
      "source": [
        "Измените код выше так, чтобы учитывались:\n",
        "    1. Однородные члены предложения \n",
        "        * (парк, площадка), (Германия, Щвейцария)\n",
        "    2. Сложные сказуемые \n",
        "        * (начнет продавать), (запретил провозить)\n",
        "    3. Непрямые объекты\n",
        "        * (едет, Польшу), (спел, скандале)"
      ]
    },
    {
      "cell_type": "code",
      "source": [
        "graph = DependencyGraph(tree_str=sent)\n",
        "list(graph.triples())"
      ],
      "metadata": {
        "colab": {
          "base_uri": "https://localhost:8080/"
        },
        "id": "FD70l12NggfE",
        "outputId": "9d8bbc4f-f226-4f91-9558-5e8e0bad95dc"
      },
      "execution_count": 228,
      "outputs": [
        {
          "output_type": "execute_result",
          "data": {
            "text/plain": [
              "[(('открыл', 'VERB'), 'nsubj', ('Собянин', 'NOUN')),\n",
              " (('открыл', 'VERB'), 'dobj', ('парк', 'NOUN')),\n",
              " (('парк', 'NOUN'), 'amod', ('новый', 'ADJ')),\n",
              " (('парк', 'NOUN'), 'cc', ('и', 'CONJ')),\n",
              " (('парк', 'NOUN'), 'conj', ('площадку', 'NOUN')),\n",
              " (('площадку', 'NOUN'), 'amod', ('детскую', 'ADJ')),\n",
              " (('открыл', 'VERB'), 'punct', ('.', 'PUNCT'))]"
            ]
          },
          "metadata": {},
          "execution_count": 228
        }
      ]
    },
    {
      "cell_type": "code",
      "execution_count": 243,
      "metadata": {
        "id": "Z4VHb1cvVetV",
        "colab": {
          "base_uri": "https://localhost:8080/"
        },
        "outputId": "9fe92cad-4ffc-4a5c-87ad-e804185edaa1"
      },
      "outputs": [
        {
          "output_type": "stream",
          "name": "stdout",
          "text": [
            "{'открыл': {'subj': 'Собянин', 'obj': ['парк', 'площадку']}}\n"
          ]
        }
      ],
      "source": [
        "def get_sov(sent):\n",
        "    graph = DependencyGraph(tree_str=sent)\n",
        "    obj_list = [] #<-\n",
        "    sov = {}\n",
        "    for triple in graph.triples():\n",
        "        if triple:\n",
        "            if triple[0][1] == 'VERB':\n",
        "                sov[triple[0][0]] = {'subj':'','obj':obj_list}\n",
        "    for triple in graph.triples():\n",
        "        if triple:\n",
        "            if triple[1] == 'nsubj':\n",
        "                if triple[0][1] == 'VERB':\n",
        "                    sov[triple[0][0]]['subj']  = triple[2][0]\n",
        "            if triple[1] in ['dobj', 'conj']:                    #<-\n",
        "                if triple[0][1] in ['VERB', 'NOUN']:             #<-\n",
        "                    obj_list.append(triple[2][0])                #<-\n",
        "                    sov[list(sov.keys())[0]]['obj'] = obj_list   #<-\n",
        "    return sov\n",
        "\n",
        "sov = get_sov(sent)\n",
        "print(sov)"
      ]
    }
  ],
  "metadata": {
    "kernelspec": {
      "display_name": "Python 3 (ipykernel)",
      "language": "python",
      "name": "python3"
    },
    "language_info": {
      "codemirror_mode": {
        "name": "ipython",
        "version": 3
      },
      "file_extension": ".py",
      "mimetype": "text/x-python",
      "name": "python",
      "nbconvert_exporter": "python",
      "pygments_lexer": "ipython3",
      "version": "3.8.10"
    },
    "toc": {
      "base_numbering": 1,
      "nav_menu": {},
      "number_sections": true,
      "sideBar": true,
      "skip_h1_title": false,
      "title_cell": "Table of Contents",
      "title_sidebar": "Contents",
      "toc_cell": false,
      "toc_position": {},
      "toc_section_display": true,
      "toc_window_display": false
    },
    "colab": {
      "provenance": [],
      "toc_visible": true
    }
  },
  "nbformat": 4,
  "nbformat_minor": 0
}